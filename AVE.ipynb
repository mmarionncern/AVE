{
 "cells": [
  {
   "cell_type": "markdown",
   "metadata": {},
   "source": [
    "# Programme d'Assignation des Vétérinaires de l'État (AVÉ)"
   ]
  },
  {
   "cell_type": "markdown",
   "metadata": {},
   "source": [
    "© Matthieu Marionneau, matmarionneau@gmail.com<br>\n",
    "© https://www.topcoder.com/community/data-science/data-science-tutorials/assignment-problem-and-hungarian-algorithm/ pour l'algorithme hongrois\n",
    "\n",
    "\n",
    "__Fonctionnement du programme__ :<br>\n",
    "Dans une nouvelle cellule en bas du programme (pas besoin de refaire une nouvelle cellule à chaque fois), copier les commandes\n",
    "\n",
    "_ave=AVE(inputFile=< fichierdonnées>, deptMax=< 1-6>, nCombMax=< 20>, useRequiredConstrains=< True False> verbose=< 0-1>)<br>\n",
    "ave.main()_<br>\n",
    "\n",
    "et replacer les valeurs < xxx> par ce qui est nécessaire. (Voir exemple avec les données de 2017 en bas de la page). Le programme affichera les résultats, et sauvegardera les résultats dans les fichiers \"assignationX\".txt et \"assignationX\".png (X étant un identifiant unique pour chaque combinaison obtenue)<br>\n",
    "\n",
    "\n",
    "__Variables d'entrées du programme__ :\n",
    "- inputFile : fichier CSV (en principe pouvant être exporté d'excel/googlesheet) contenant les différents choix. Ce fichier DOIT être d'une forme similaire à :<br>\n",
    "    ISPVs, Poste 1, Poste 2, Optionnel 1, Poste 3<br>\n",
    "    Charles, 3, 1, 2, 2<br>\n",
    "    Isabelle, 1, 2, 3, 4<br>\n",
    "    Jeanne, 10000000, 10000000, 1, 10000000<br>\n",
    "    \n",
    "    Contraintes du fichier CSV :\n",
    "        - les postes avec contraintes doivent s'appeler \"Poste X\" (respect du P majuscule)\n",
    "        - les postes ne pouvant être attribués à certains ISPVs (FCPR, agros) doivent recevoir une assignation de 10 million (10000000)\n",
    "        - en cas de postes de même contentement x, il est recommandé d'assigner au poste suivant le choix x+1: e.g. pour 3 postes (1,2,3) et avec les postes 1 et 2 considérés tous les deux comme 1er choix, le poste 3 est considéré comme le 2e choix et non pas comme le 3e choix.\n",
    "     Autres informations :\n",
    "         - l'ordre des postes et des ISPVs dans le fichier de données n'importe pas\n",
    "    \n",
    "- deptMax [1-6] : niveau de complexité des solutions alternatives : <br>\n",
    "    niveau 1 : calcul d'une unique solution <br>\n",
    "    niveau 2-6 : recherche de la meilleure solution et de solutions alternatives de plus en plus complexes. <br>\n",
    "- nCombMax : nombre de combinaisons maximales retenues. Ce nombre s'ajuste automatiquement afin de garantir l'observation de tous les résultats possibles à coûts égaux ou inférieurs\n",
    "- useRequiredConstrains [True-False] : utilise les contraintes de postes obligatoires (activé par défaut)\n",
    "- verbose [0-1] : active l'impression des détails/vérifications\n",
    "\n"
   ]
  },
  {
   "cell_type": "markdown",
   "metadata": {},
   "source": [
    "## librairies et variables globales"
   ]
  },
  {
   "cell_type": "code",
   "execution_count": 11,
   "metadata": {},
   "outputs": [],
   "source": [
    "import os\n",
    "import numpy as np\n",
    "import copy\n",
    "\n",
    "import scipy.stats as spstat\n",
    "from io import BytesIO\n",
    "import matplotlib.pyplot as plt\n",
    "from IPython.display import display, Image, HTML\n",
    "import base64\n",
    "import csv\n",
    "\n",
    "np.set_printoptions(threshold=np.nan)\n",
    "\n",
    "#constants\n",
    "FORBID=10000000"
   ]
  },
  {
   "cell_type": "markdown",
   "metadata": {},
   "source": [
    "## algorithme principal (algorithme hongrois)"
   ]
  },
  {
   "cell_type": "code",
   "execution_count": 12,
   "metadata": {
    "collapsed": true
   },
   "outputs": [],
   "source": [
    "class HungarianAlgorithm():\n",
    "    \"\"\" This class contains the main algorithm used to assign the ISPVs to the different\n",
    "    positions. This follows the code proposed in \n",
    "    https://www.topcoder.com/community/data-science/data-science-tutorials/assignment-problem-and-hungarian-algorithm/\n",
    "    \"\"\"\n",
    "    def __init__(self,costMatrix,constrains=None,verbose=0):\n",
    "\n",
    "        self.verbose=verbose\n",
    "        \n",
    "        #external parameters\n",
    "        self.costMatrix=np.array(costMatrix, dtype=np.int32)\n",
    "        self.constrains=constrains\n",
    "        \n",
    "        # transform the matrix to transform the problem\n",
    "        # in a maximum-weighted matching problem\n",
    "        # ==>find \"reduced\" maximum cost for bots\n",
    "        self.maxCost=np.amax(self.costMatrix)%FORBID\n",
    "      \n",
    "        #internal parameters\n",
    "        shape=self.costMatrix.shape\n",
    "        idx=np.argmax(shape)\n",
    "        self.N=shape[idx]\n",
    "        self.nBots=shape[idx]-shape[1-idx]\n",
    "        if verbose:\n",
    "            print \"checking the cost matrix size : size=\",self.N,\" ndof=\",self.nBots\n",
    "        #squaring the cost matrix with bots\n",
    "        self.makeSquareMatrix()\n",
    "\n",
    "         # transform the matrix to transform the problem\n",
    "        # in a maximum-weighted matching problem\n",
    "        # ==>perform the transformation\n",
    "        self.maxCost=np.amax(self.costMatrix)\n",
    "        self.costs=self.maxCost-self.costMatrix\n",
    "\n",
    "        #algorithm placeholders\n",
    "        self.lx=np.zeros((self.N), dtype=np.int32)\n",
    "        self.ly=np.zeros((self.N), dtype=np.int32)\n",
    "        self.xy=np.full((self.N),-1, dtype=np.int32)\n",
    "        self.yx=np.full((self.N),-1, dtype=np.int32)\n",
    "        self.S=np.zeros((self.N), dtype=bool)\n",
    "        self.T=np.zeros((self.N), dtype=bool)\n",
    "        self.slack=np.zeros((self.N), dtype=np.int32)\n",
    "        self.slackx=np.zeros((self.N), dtype=np.int32)\n",
    "        self.prev=np.zeros((self.N), dtype=np.int32)\n",
    "\n",
    "        self.maxMatch=0\n",
    "\n",
    "    def makeSquareMatrix(self):\n",
    "        if self.nBots!=0:\n",
    "            #creating nbots with N choices with large cost\n",
    "            #(lower than forbidden combinations)\n",
    "            bots=np.full((self.nBots,self.N),max(self.N+20,self.maxCost+20),dtype=np.int32)\n",
    "            if self.constrains!=None:\n",
    "                for c in self.constrains:\n",
    "                    bots[:,c]=FORBID\n",
    "\n",
    "            self.costMatrix=np.concatenate((self.costMatrix, bots))\n",
    "            if self.verbose:\n",
    "                print(\"inclusion of bots, updated cost matrix\")\n",
    "                print self.costMatrix\n",
    "                print(\"===============\")\n",
    "        \n",
    "    def initLabels(self):\n",
    "        #initialize labels\n",
    "        self.lx[:]=0\n",
    "        self.ly[:]=0\n",
    "        for ix in range(0,self.N):\n",
    "            for iy in range(0,self.N):\n",
    "                self.lx[ix]=max(self.lx[ix], self.costs[ix][iy])\n",
    "        \n",
    "\n",
    "    def reinitialize(self):\n",
    "        self.maxMatch=0\n",
    "        self.lx[:]=0\n",
    "        self.ly[:]=0\n",
    "        self.xy[:]=-1\n",
    "        self.yx[:]=-1\n",
    "        self.S[:]=False\n",
    "        self.T[:]=False\n",
    "        self.slack[:]=0\n",
    "        self.slackx[:]=0\n",
    "        self.prev[:]=0\n",
    "        \n",
    "    def updateLabels(self):\n",
    "        delta=1000000000\n",
    "        for i in range(0,self.N):\n",
    "            if not self.T[i]: delta=min(delta,self.slack[i])\n",
    "        for i in range(0,self.N):\n",
    "            if self.S[i]: self.lx[i] -=delta\n",
    "        for i in range(0,self.N):\n",
    "            if self.T[i]: self.ly[i] += delta    \n",
    "        for i in  range(0,self.N):\n",
    "            if not self.T[i]: self.slack[i] -= delta\n",
    "            \n",
    "    def addToTree(self,ix,prevx):\n",
    "        self.S[ix]=True\n",
    "        self.prev[ix]=prevx\n",
    "        for iy in range(0,self.N):\n",
    "            if self.lx[ix]+self.ly[iy]-self.costs[ix][iy] < self.slack[iy]:\n",
    "                self.slack[iy]=self.lx[ix]+self.ly[iy]-self.costs[ix][iy]\n",
    "                self.slackx[iy]=ix\n",
    "\n",
    "    def augment(self,):\n",
    "        #main function of the algorithm\n",
    "\n",
    "        #perfect matching check\n",
    "        if self.maxMatch==self.N:\n",
    "            if self.verbose: print(\"perfect matching found\")\n",
    "            return\n",
    "\n",
    "        root=0\n",
    "        q=np.zeros((self.N))\n",
    "        wr=0\n",
    "        rd=0\n",
    "\n",
    "        #position in queue, init set of S,T,prev\n",
    "        self.S[:]=False\n",
    "        self.T[:]=False\n",
    "        self.prev[:]=-1\n",
    "        for ix in range(0,self.N):\n",
    "            if self.xy[ix]==-1:\n",
    "                root=ix\n",
    "                q[wr]=ix\n",
    "                wr+=1\n",
    "                self.prev[ix]=-2\n",
    "                self.S[ix]=True\n",
    "                break\n",
    "\n",
    "        for iy in range(0,self.N):\n",
    "            self.slack[iy] = self.lx[root]+self.ly[iy]-self.costs[root][iy]\n",
    "            self.slackx[iy] = root\n",
    "        #second part of augment() function\n",
    "        ix=int(0)\n",
    "        iy=int(0)\n",
    "        corrector=1\n",
    "        while True:\n",
    "            while rd<wr:\n",
    "                ix=int(q[rd])\n",
    "                rd+=1\n",
    "                for iy in range(0,self.N):\n",
    "                    if self.costs[ix][iy] == (self.lx[ix] + self.ly[iy]) and not self.T[iy]:\n",
    "                        if self.yx[iy]==-1: \n",
    "                            corrector=0\n",
    "                            break\n",
    "                        self.T[iy]=True\n",
    "                        q[wr]=self.yx[iy]\n",
    "                        wr+=1\n",
    "                        self.addToTree(self.yx[iy],ix)\n",
    "                if iy==self.N-1: #bloody fix as the for loop does not behave in the same way as in C++\n",
    "                    iy+=corrector\n",
    "                if iy<self.N: break #augmenting path found!\n",
    "            if iy<self.N: break #augmenting path found!\n",
    "            # augmenting path not found, so improve labeling\n",
    "            self.updateLabels()\n",
    "            wr=0\n",
    "            rd=0 \n",
    "            corrector=1\n",
    "            for iy in range(0,self.N):\n",
    "                #in this cycle we add edges that were added to the equality graph as a\n",
    "                #result of improving the labeling, we add edge (slackx[y], y) to the tree if\n",
    "                #and only if !T[y] && slack[y] == 0, also with this edge we add another one\n",
    "                #(y, yx[y]) or augment the matching, if y was exposed\n",
    "                if (not self.T[iy]) and self.slack[iy]==0:\n",
    "                    if self.yx[iy]==-1:\n",
    "                        ix = self.slackx[iy]\n",
    "                        corrector=0\n",
    "                        break\n",
    "                    else:\n",
    "                        self.T[iy]=True\n",
    "                        if not self.S[self.yx[iy]]:\n",
    "                            q[wr]=self.yx[iy]\n",
    "                            wr+=1\n",
    "                            self.addToTree(self.yx[iy],self.slackx[iy])\n",
    "            if iy==self.N-1: #bloody fix as the for loop does not behave int he same way as in C++\n",
    "                    iy+=corrector\n",
    "            if iy<self.N:#augmenting path found!\n",
    "                break\n",
    "        \n",
    "        if iy<self.N: #we found augmenting path!\n",
    "            self.maxMatch+=1 #increment matching\n",
    "            #in this cycle we inverse edges along augmenting path\n",
    "            cx=int(ix)\n",
    "            cy=int(iy)\n",
    "            ty=-1\n",
    "            while cx!=-2:\n",
    "                ty=self.xy[cx]\n",
    "                self.yx[cy]=cx\n",
    "                self.xy[cx]=cy\n",
    "                cx=self.prev[cx]\n",
    "                cy=ty\n",
    "            self.augment()"
   ]
  },
  {
   "cell_type": "markdown",
   "metadata": {},
   "source": [
    "## code maître"
   ]
  },
  {
   "cell_type": "code",
   "execution_count": 27,
   "metadata": {
    "collapsed": true
   },
   "outputs": [],
   "source": [
    "class AVE():\n",
    "    \"\"\"This class extract the best possible ISPVs-position matching based on the preferencies \n",
    "    of the ISPVs. \n",
    "    Input variables :\n",
    "    inputFile : csv file containing the preferency matrix\n",
    "    deptMax : leve of complexity for alternate solutions [1-6]. 1 means only the best measurement\n",
    "    mCombMax : maximum number of combination retained by the program\n",
    "    useRequiredConstrains : enable or disable the constrains on positions to be absolutely assigned \n",
    "    verbose : enable the print statements\"\"\"\n",
    "    def __init__(self,inputFile, deptMax, nCombMax=20, useRequiredConstrains=True, verbose=1):\n",
    "        \n",
    "        #input values\n",
    "        self.namesISPVs=[]\n",
    "        self.positions=[]\n",
    "        self.globalCosts=[]\n",
    "        self.globalConstrains=[]\n",
    "        self.useReqCons=useRequiredConstrains\n",
    "        \n",
    "        self.OFFSET=100000\n",
    "        \n",
    "        self.verbose=verbose\n",
    "        self.deptMax=deptMax\n",
    "        self.nCombMax=nCombMax\n",
    "        self.file=self.getData(inputFile, verbose=1)\n",
    "        \n",
    "        self.nISPVs=len(self.globalCosts)\n",
    "        \n",
    "    def getData(self,fileName, verbose):\n",
    "        \"\"\"Read the input file, convert the contents and store them\"\"\"\n",
    "        \n",
    "        self.namesISPVs=[]\n",
    "        self.positions=[]\n",
    "        self.globalCosts=[]\n",
    "        self.globalConstrains=[]\n",
    "        with open(fileName) as csvfile:\n",
    "            reader = csv.DictReader(csvfile)\n",
    "            self.positions=reader.fieldnames[1:]\n",
    "            for i,p in enumerate(self.positions):\n",
    "                if \"Poste\" in p: \n",
    "                    self.globalConstrains.append(i)\n",
    "            for i,row in enumerate(reader):\n",
    "                self.namesISPVs.append(row['ISPVs'])\n",
    "                self.globalCosts.append([])\n",
    "                for j,col in enumerate(self.positions):\n",
    "                    self.globalCosts[i].append(int(row[col]))\n",
    "\n",
    "            displayCosts=np.array(self.globalCosts)\n",
    "            displayCosts[displayCosts==FORBID]=-1\n",
    "            if verbose:\n",
    "                print \"ISPVs:\\n\",np.array(self.namesISPVs),\"\\n\"\n",
    "                print \"postes:\\n\",np.array(self.positions),\"\\n\"\n",
    "                print \"index des contraintes:\\n\", self.globalConstrains,\"\\n\"\n",
    "                print \"===== matrice de coût(choix) (postes interdits=-1 pour visualisation uniquement) ====\"\n",
    "                print displayCosts\n",
    "\n",
    "        \n",
    "    def getMatching(self,costs,constrains):\n",
    "        \"\"\"get a combination with the hungarian algorithm\"\"\"\n",
    "        \n",
    "        if self.verbose:\n",
    "            print(\"==================== search for new combination ==============\")\n",
    "        \n",
    "        hgAlgo=HungarianAlgorithm(costs,constrains,self.verbose)\n",
    "        hgAlgo.initLabels()\n",
    "        hgAlgo.augment()\n",
    "                \n",
    "        totCost=sum([hgAlgo.costs[x][hgAlgo.xy[x]] for x in range(0,hgAlgo.N) ])\n",
    "        totCost2=sum([costs[x][hgAlgo.xy[x]] for x in range(0,self.nISPVs) ])\n",
    "        if self.verbose:\n",
    "            print \"total cost for best score:\",totCost2,\"/\",totCost\n",
    "\n",
    "        result={}\n",
    "        if self.verbose:\n",
    "            print \"=== result === \"\n",
    "        for i in range(0,self.nISPVs):\n",
    "            if self.verbose:\n",
    "                 print \"ispv : \",namesISPVs[i],\"\\t-> cost/rank=\",costs[i][hgAlgo.xy[i]],\"\\tposition=\",hgAlgo.xy[i],\"(\"+positions[hgAlgo.xy[i]]+\")\"\n",
    "            cost=costs[i][hgAlgo.xy[i]]\n",
    "            result[i]=(hgAlgo.xy[i],cost)# if cost<100000 else cost%100000)\n",
    "        if self.verbose:\n",
    "            for i in range(self.nISPVs,len(hgAlgo.xy)):\n",
    "                print \" bot : \",i,\"\\t position=\",hgAlgo.xy[i],\"(\"+self.positions[hgAlgo.xy[i]]+\")\"\n",
    "    \n",
    "        return result,totCost2,hgAlgo.xy\n",
    "    \n",
    "    def getAlternateMatchings(self,initCosts,constrains,initRanks):\n",
    "        \"\"\"Get alternate combinations of the hungarian algorithm by alterating the \n",
    "        ranks chosen in the first iteration\"\"\"\n",
    "\n",
    "        results={}\n",
    "        offset=self.OFFSET\n",
    "    \n",
    "        ispvs=range(0,self.nISPVs)\n",
    "    \n",
    "        #first, look at alternate solution of \"dept 2\"\n",
    "        # by forbidding one choice at a time for each ISPV\n",
    "        for isp in ispvs:\n",
    "            aCosts = copy.deepcopy(initCosts)\n",
    "            aCosts[isp][initRanks[isp]]=offset\n",
    "            res, cost, ranks=self.getMatching(aCosts,constrains) \n",
    "            if cost in results.keys():\n",
    "                results[cost].append( res )\n",
    "            else:\n",
    "                results[cost]=[res]\n",
    "            \n",
    "            #alternate possibility with two level dept forbidden choices, dept 3\n",
    "            if self.deptMax<3: continue\n",
    "            aCosts = copy.deepcopy(aCosts)\n",
    "            aCosts[isp][ranks[isp]]=offset\n",
    "            res, cost, ranks=self.getMatching(aCosts,constrains)\n",
    "            if cost in results.keys():\n",
    "                results[cost].append( res )\n",
    "            else:\n",
    "                results[cost]=[res]\n",
    "\n",
    "            #second, look at alternate solution of \"dept 4\"\n",
    "            # by forbidding two choice at a time for two ISPVs\n",
    "            if self.deptMax<4: continue\n",
    "            for isp2 in [kk for kk in ispvs if not kk==isp]:\n",
    "                aCosts = copy.deepcopy(initCosts)\n",
    "                aCosts[isp][initRanks[isp]]=offset\n",
    "                aCosts[isp2][initRanks[isp2]]=offset\n",
    "                res, cost, ranks=self.getMatching(aCosts,constrains)\n",
    "                if cost in results.keys():\n",
    "                    results[cost].append( res )\n",
    "                else:\n",
    "                    results[cost]=[res]\n",
    "\n",
    "                #alternate possibility with two level dept forbidden choices\n",
    "                # for two ISPVs, dept 5\n",
    "                if self.deptMax<5: continue\n",
    "                aCosts = copy.deepcopy(aCosts)\n",
    "                aCosts[isp][ranks[isp]]=offset\n",
    "                aCosts[isp2][ranks[isp2]]=offset\n",
    "                res, cost, ranks=self.getMatching(aCosts,constrains)\n",
    "                if cost in results.keys():\n",
    "                    results[cost].append( res )\n",
    "                else:\n",
    "                    results[cost]=[res]\n",
    "\n",
    "                #dept 6, three choices at a time, and we stop here\n",
    "                # for varying simultaneously several choices\n",
    "                if self.deptMax<6: continue\n",
    "                for isp3 in [kk for kk in ispvs if not kk==isp and not kk==isp2]:\n",
    "                    aCosts = copy.deepcopy(initCosts)\n",
    "                    aCosts[isp][initRanks[isp]]=offset\n",
    "                    aCosts[isp2][initRanks[isp2]]=offset\n",
    "                    aCosts[isp3][initRanks[isp3]]=offset\n",
    "                    res, cost, ranks=self.getMatching(aCosts,constrains)\n",
    "                    if cost in results.keys():\n",
    "                        results[cost].append( res )\n",
    "                    else:\n",
    "                        results[cost]=[res]\n",
    "\n",
    "        return results\n",
    "    \n",
    "    def checkConstrains(self,result,verbose):\n",
    "        \"\"\"Check constrains (mandatory positions and IPSV constrains) for a given result\"\"\"\n",
    "\n",
    "        if self.useReqCons :\n",
    "            poss=[result[k][0] for k in result.keys()]\n",
    "            for c in self.globalConstrains:\n",
    "                if c not in poss:\n",
    "                    if verbose:\n",
    "                        print\"result not supported, constrains unfulfilled : \",c,\"(\"+self.positions[c]+\")\"\n",
    "                    return False\n",
    "        \n",
    "        for k in result.keys():\n",
    "            if self.globalCosts[k][result[k][0]]==FORBID:\n",
    "                if verbose:\n",
    "                    print\"result not supported, wrong assignment to \",self.namesISPVs[k],\":\",c,\"(\"+self.positions[c]+\")\"\n",
    "                return False\n",
    "\n",
    "\n",
    "        return True\n",
    "\n",
    "    def checkCombExistence(self,refs, opt):\n",
    "        \"\"\"check if the obtained combination already exists or not\"\"\"\n",
    "        \n",
    "        exists=False\n",
    "        for ref in refs:\n",
    "            nDiff=len(ref.keys())\n",
    "            for k in ref.keys():\n",
    "                if opt[k][0]==ref[k][0]:\n",
    "                    nDiff-=1\n",
    "            if nDiff==0:\n",
    "                exists=True\n",
    "                break\n",
    "        if exists: return False\n",
    "        else: return True\n",
    "\n",
    "\n",
    "    def plotdesc(self,fig, text, name, iwidth=None):\n",
    "        \"\"\"plot the associated statistics\"\"\"\n",
    "        \n",
    "        bio = BytesIO()\n",
    "        # save fig as png to bytes IO instead to disk\n",
    "        fig.savefig(bio, format='png')\n",
    "        fig.savefig(name+'.png', bbox_inches='tight')\n",
    "        plt.close(fig)\n",
    "        iwidth = ' width={0} '.format(iwidth) if iwidth is not None else ''\n",
    "        img_tag = \"<img src='data:image/png;base64,\" + base64.b64encode(bio.getvalue()) + \"'{0}/>\".format(iwidth)\n",
    "        datatable = '<table><tr><td>{0}</td><td>{1}</td></tr></table>'.format(img_tag, text)\n",
    "        display(HTML(datatable))\n",
    "\n",
    "\n",
    "    def plotFigure(self,ranks, cost, stats, name):\n",
    "        \"\"\"plot the histogram and the associated statistics\"\"\"\n",
    "        \n",
    "        fig, ax = plt.subplots(1,1, figsize=(6,4))   \n",
    "        ax.hist(ranks, bins=np.arange(stats['minRank']-0.5,stats['maxRank']+1+0.5,1),histtype='bar',alpha=0.5, ec='black')\n",
    "        ax.set_xlabel('choix')\n",
    "        ax.set_ylabel('#ISPVS')\n",
    "        #ax.set_xticklabels(tick_labels.astype(int))\n",
    "        #ax.set_yticklabels(tick_labels.astype(int))\n",
    "        text = '<h4> résultats:</h4><BR>somme des choix='+str(cost)\n",
    "        text+= '<BR>moyenne='+str(stats['mean'])\n",
    "        text+= '<BR>déviation standard='+str(stats['sigma'])\n",
    "        text+= '<BR>médiane='+str(stats['median'])\n",
    "        text+= '<BR>min='+str(stats['minRank'])\n",
    "        text+= '<BR>max='+str(stats['maxRank'])\n",
    "        self.plotdesc(fig, text, name, iwidth='500px')    \n",
    "\n",
    "    def saveAndDisplay(self,result, cost, name):\n",
    "        \"\"\"Save the combination in ASCII file, save the histogram, and display the result\"\"\"\n",
    "        \n",
    "        #first save the ranks and positions\n",
    "        ranks=[result[k][1] for k in result.keys()]\n",
    "        mean=np.mean(ranks)\n",
    "        sigma=np.std(ranks)\n",
    "        median=np.median(ranks)\n",
    "        minRank=np.amin(ranks)\n",
    "        maxRank=np.amax(ranks)\n",
    "        stats={\"mean\":mean,\n",
    "               \"sigma\":sigma,\n",
    "               \"median\":median,\n",
    "               \"minRank\":minRank,\n",
    "               \"maxRank\":maxRank}\n",
    "        with open(name+'.txt', 'w') as f:\n",
    "            f.write(name+'\\n')\n",
    "            f.write('somme des choix='+str(cost)+'\\n')\n",
    "            f.write('moyenne='+str(mean)+'\\n')\n",
    "            f.write('déviation standard='+str(sigma)+'\\n')\n",
    "            f.write('médiane='+str(median)+'\\n')\n",
    "            f.write('min='+str(minRank)+'\\n')\n",
    "            f.write('max='+str(maxRank)+'\\n')\n",
    "            f.write('\\nispv\\tposte\\tchoix\\n')\n",
    "            for k in result.keys():\n",
    "                line=self.namesISPVs[k]+\"\\t\"+self.positions[result[k][0]]+\"\\t\"+str(result[k][1])+'\\n'\n",
    "                f.write(line)\n",
    "\n",
    "        #now display\n",
    "        self.plotFigure(ranks,cost, stats, name)\n",
    "        \n",
    "        \n",
    "    def main(self, deptMax=1, nCombMax=20, verbose=0):\n",
    "        \"\"\"main function, executing the full AVE program\"\"\"\n",
    "        \n",
    "        constrains=self.globalConstrains if self.useReqCons else None\n",
    "        deptMax=self.deptMax\n",
    "                \n",
    "        res,cost,ranks=self.getMatching(self.globalCosts,constrains)\n",
    "\n",
    "        finalResults={}\n",
    "        finalResults[cost]=[ res ]\n",
    "        if deptMax>=2:\n",
    "            alternateResults=self.getAlternateMatchings(self.globalCosts,\n",
    "                                                        constrains,\n",
    "                                                        ranks)\n",
    "            for key in alternateResults.keys():\n",
    "                if key not in finalResults.keys():\n",
    "                    finalResults[key]=[]\n",
    "                for opt in alternateResults[key]:\n",
    "                    if len(finalResults[key])!=0:\n",
    "                        valid=self.checkCombExistence(finalResults[key],opt)\n",
    "                    else: \n",
    "                        valid=True\n",
    "                    if valid:\n",
    "                        finalResults[key].append(opt)\n",
    "\n",
    "\n",
    "        print(\"\\n====================== resultats ===============\")\n",
    "        nCombs=0 \n",
    "        sortedKeys=sorted(finalResults)\n",
    "        for key in sortedKeys:    \n",
    "            print \"somme des choix: \",key,\"-->>\",len(finalResults[key]),\" combinaisons\"\n",
    "            nCombs+=len(finalResults[key])\n",
    "        print nCombs,\"combinaisons possibles avant vérification des contraintes\"\n",
    "\n",
    "        #combination found, trim them if needed\n",
    "        nCombs=0\n",
    "        keyMax=-1\n",
    "        validResults={}\n",
    "        for key in sortedKeys:\n",
    "            tmp=[k for k in finalResults[key] if self.checkConstrains(k,1) ]\n",
    "            nCombs+=len(tmp)\n",
    "            validResults[key]=tmp\n",
    "            if nCombs>nCombMax:\n",
    "                keyMax=key\n",
    "                break\n",
    "                \n",
    "        print nCombs,\"combinaisons possibles après vérification des contraintes\"\n",
    "        sortedKeys=sorted(validResults)\n",
    "        for key in sortedKeys:    \n",
    "            print \"somme des choix: \",key,\"-->>\",len(validResults[key]),\" combinaisons\"\n",
    "        print \"\\n\"\n",
    "\n",
    "        #at that level, we know what to keep and we \n",
    "        #store the results and compute statistical quantities\n",
    "        ii=1\n",
    "        for k in sortedKeys:\n",
    "            for i,r in enumerate(validResults[k]):\n",
    "                name=\"assignation\"+str(ii)\n",
    "                print \"\\n========================== assignation\",ii,\"=====================================\"\n",
    "                self.saveAndDisplay(r,k,name)\n",
    "                #and we want the results to be printed as well\n",
    "                print 'somme des choix='+str(k)+\"\\n\"\n",
    "                print '\\033[1m{:25}\\033[0m'.format('ISPV'),'\\033[1m{:20}\\033[0m'.format('POSTE'),'\\033[1m{:10}\\033[0m'.format('CHOIX')\n",
    "                for isp in r.keys():\n",
    "                    print '{:25}'.format(self.namesISPVs[isp]),'{:20}'.format(self.positions[r[isp][0]]),'{:10}'.format(str(r[isp][1]))#+'\\n'\n",
    "                    #print str(isp)+\"\\t\"+str(r[isp][0])+\"\\t\"+str(r[isp][1])\n",
    "                ii+=1\n"
   ]
  },
  {
   "cell_type": "markdown",
   "metadata": {},
   "source": [
    "## validation sur données de 2017"
   ]
  },
  {
   "cell_type": "code",
   "execution_count": 29,
   "metadata": {
    "scrolled": false
   },
   "outputs": [
    {
     "name": "stdout",
     "output_type": "stream",
     "text": [
      "ISPVs:\n",
      "['Agnes' 'Cecile' 'Claudine' 'Elise' 'FCPR' 'Helene' 'Linda' 'Nathalie'\n",
      " 'Sofia' 'X' 'XX' 'XXX'] \n",
      "\n",
      "postes:\n",
      "['Poste 1' 'Poste 2' 'Optionnel 1' 'Optionnel 2' 'Poste 3' 'Poste 4'\n",
      " 'Poste 5' 'Optionnel 3' 'Poste 6' 'Poste 7' 'Poste 8' 'Optionnel 4'\n",
      " 'Poste 9' 'Poste 10' 'Optionnel 5' 'Optionnel 6' 'Optionnel 7'] \n",
      "\n",
      "index des contraintes:\n",
      "[0, 1, 4, 5, 6, 8, 9, 10, 12, 13] \n",
      "\n",
      "===== matrice de coût(choix) (postes interdits=-1 pour visualisation uniquement) ====\n",
      "[[11 15 12  6  3 10  8  1  2 14  7 13 16  9  5 17  4]\n",
      " [ 6 12  4  5 17 10 11  3 13  9 15  2  8 16  7 14  1]\n",
      " [ 5 17 11  7  3  1  4 10  6 13 15 14  2 12  9 16  8]\n",
      " [11 10  4 16  3 17  8  1  9 12 14  6 13 15  7  2  5]\n",
      " [-1 -1  7  1 -1 -1 -1  5 -1 -1 -1  2 -1 -1  4  6  3]\n",
      " [17  2 13  6  9  1 14 15 10  4 11  5  7  3 12 16  8]\n",
      " [ 3  1 -1  4 -1 -1 -1 -1 -1 -1 -1 -1 -1 -1 -1  2 -1]\n",
      " [16  3 13 11  6  2  4 10 15  7  8  5  9  1 14 12 17]\n",
      " [10 11 16  5  2  8  4 15  7  6  9  1 17  3 13 14 12]\n",
      " [ 6  3 10 13  7  9 15  2  4  8 17  5 14  1 12 16 11]\n",
      " [11  2 17  9  3 14 13  4  5 15 12  8  7 16  6 10  1]\n",
      " [ 1  2  3  4  5  6  7  8  9 10 11 12 13 14 15 16 17]]\n",
      "\n",
      "====================== resultats ===============\n",
      "somme des choix:  18 -->> 2  combinaisons\n",
      "somme des choix:  19 -->> 6  combinaisons\n",
      "somme des choix:  20 -->> 6  combinaisons\n",
      "somme des choix:  21 -->> 4  combinaisons\n",
      "18 combinaisons possibles avant vérification des contraintes\n",
      "18 combinaisons possibles après vérification des contraintes\n",
      "somme des choix:  18 -->> 2  combinaisons\n",
      "somme des choix:  19 -->> 6  combinaisons\n",
      "somme des choix:  20 -->> 6  combinaisons\n",
      "somme des choix:  21 -->> 4  combinaisons\n",
      "\n",
      "\n",
      "\n",
      "========================== assignation 1 =====================================\n"
     ]
    },
    {
     "data": {
      "text/html": [
       "<table><tr><td><img src='data:image/png;base64,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' width=500px /></td><td><h4> résultats:</h4><BR>somme des choix=18<BR>moyenne=1.5<BR>déviation standard=0.645497224368<BR>médiane=1.0<BR>min=1<BR>max=3</td></tr></table>"
      ],
      "text/plain": [
       "<IPython.core.display.HTML object>"
      ]
     },
     "metadata": {},
     "output_type": "display_data"
    },
    {
     "name": "stdout",
     "output_type": "stream",
     "text": [
      "somme des choix=18\n",
      "\n",
      "\u001b[1mISPV                     \u001b[0m \u001b[1mPOSTE               \u001b[0m \u001b[1mCHOIX     \u001b[0m\n",
      "Agnes                     Poste 6              2         \n",
      "Cecile                    Optionnel 7          1         \n",
      "Claudine                  Poste 9              2         \n",
      "Elise                     Optionnel 6          2         \n",
      "FCPR                      Optionnel 2          1         \n",
      "Helene                    Poste 4              1         \n",
      "Linda                     Poste 2              1         \n",
      "Nathalie                  Poste 10             1         \n",
      "Sofia                     Optionnel 4          1         \n",
      "X                         Optionnel 3          2         \n",
      "XX                        Poste 3              3         \n",
      "XXX                       Poste 1              1         \n",
      "\n",
      "========================== assignation 2 =====================================\n"
     ]
    },
    {
     "data": {
      "text/html": [
       "<table><tr><td><img src='data:image/png;base64,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' width=500px /></td><td><h4> résultats:</h4><BR>somme des choix=18<BR>moyenne=1.5<BR>déviation standard=0.5<BR>médiane=1.5<BR>min=1<BR>max=2</td></tr></table>"
      ],
      "text/plain": [
       "<IPython.core.display.HTML object>"
      ]
     },
     "metadata": {},
     "output_type": "display_data"
    },
    {
     "name": "stdout",
     "output_type": "stream",
     "text": [
      "somme des choix=18\n",
      "\n",
      "\u001b[1mISPV                     \u001b[0m \u001b[1mPOSTE               \u001b[0m \u001b[1mCHOIX     \u001b[0m\n",
      "Agnes                     Poste 6              2         \n",
      "Cecile                    Optionnel 4          2         \n",
      "Claudine                  Poste 9              2         \n",
      "Elise                     Optionnel 6          2         \n",
      "FCPR                      Optionnel 2          1         \n",
      "Helene                    Poste 4              1         \n",
      "Linda                     Poste 2              1         \n",
      "Nathalie                  Poste 10             1         \n",
      "Sofia                     Poste 3              2         \n",
      "X                         Optionnel 3          2         \n",
      "XX                        Optionnel 7          1         \n",
      "XXX                       Poste 1              1         \n",
      "\n",
      "========================== assignation 3 =====================================\n"
     ]
    },
    {
     "data": {
      "text/html": [
       "<table><tr><td><img src='data:image/png;base64,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' width=500px /></td><td><h4> résultats:</h4><BR>somme des choix=19<BR>moyenne=1.58333333333<BR>déviation standard=0.953793595188<BR>médiane=1.0<BR>min=1<BR>max=4</td></tr></table>"
      ],
      "text/plain": [
       "<IPython.core.display.HTML object>"
      ]
     },
     "metadata": {},
     "output_type": "display_data"
    },
    {
     "name": "stdout",
     "output_type": "stream",
     "text": [
      "somme des choix=19\n",
      "\n",
      "\u001b[1mISPV                     \u001b[0m \u001b[1mPOSTE               \u001b[0m \u001b[1mCHOIX     \u001b[0m\n",
      "Agnes                     Optionnel 3          1         \n",
      "Cecile                    Optionnel 7          1         \n",
      "Claudine                  Poste 9              2         \n",
      "Elise                     Optionnel 6          2         \n",
      "FCPR                      Optionnel 2          1         \n",
      "Helene                    Poste 4              1         \n",
      "Linda                     Poste 2              1         \n",
      "Nathalie                  Poste 10             1         \n",
      "Sofia                     Optionnel 4          1         \n",
      "X                         Poste 6              4         \n",
      "XX                        Poste 3              3         \n",
      "XXX                       Poste 1              1         \n",
      "\n",
      "========================== assignation 4 =====================================\n"
     ]
    },
    {
     "data": {
      "text/html": [
       "<table><tr><td><img src='data:image/png;base64,iVBORw0KGgoAAAANSUhEUgAAAbAAAAEgCAYAAADVKCZpAAAABHNCSVQICAgIfAhkiAAAAAlwSFlzAAALEgAACxIB0t1+/AAAFodJREFUeJzt3X9s1PXhx/FXaVeiQEFoC4ya1VpHf1lKOSkyLJZYQVY7gcqoiLjCbluIoCRboi5DiAPWRIX9iNmpaf3xDSWiCxUQh/xqqCzsoLCBgxC1jkLVKw6sIP1x/Xz/MDTU8uOA9vO+d/t8JEuE+7T34qPtc/e54xrhOI4jAAAs08f0AAAArgUBAwBYiYABAKxEwAAAViJgAAArETAAgJUIGADASgQMAGAlAgYAsBIBAwBYiYABAKxEwAAAViJgAAArETAAgJUIGADASgQMAGAlAgYAsBIBAwBYiYABAKxEwAAAViJgAAArETAAgJUIGADASgQMAGAlAgYAsBIBAwBYiYABAKxEwAAAViJgAAArETAAgJUIGADASgQMAGAlAgYAsBIBAwBYKcr0gO4SGxurxMRE0zMAwCq1tbVqaGgwPSMkPTZgiYmJ8vv9pmcAgFU8Ho/pCSHjEiIAwEoEDABgJQIGALASAQMAWMmKgB05ckRZWVnt/4uJidGqVatMzwIAGGTFqxBHjhyp/fv3S5KCwaBGjBihadOmGV4FADDJikdgF9q6datuvfVW/eAHPzA9BQBgkHUBq6ioUHFxsekZAADDrLiEeF5zc7MqKyu1YsWKi97u8/nk8/kkSYFA4JrvZ8nyUtV9ZsffRA8HCcNitfSp35ieAaCXsSpg7777rrKzszV06NCL3u71euX1eiVd398mr/usQRn3z7/mj+9tDr7zsukJAHohqy4hrlmzhsuHAABJFgXszJkz2rJli6ZPn256CgAgDFhzCbFfv346efKk6RkAgDBhzSMwAAAuRMAAAFYiYAAAKxEwAICVCBgAwEoEDABgJQIGALASAQMAWImAAQCsRMAAAFYiYAAAKxEwAICVCBgAwEoEDABgJQIGALASAQMAWImAAQCsRMAAAFYiYAAAKxEwAICVrAnYqVOnVFRUpJSUFKWmpmr37t2mJwEADIoyPSBUixYt0pQpU7Ru3To1Nzfr7NmzpicBAAyyImCnT59WVVWVysvLJUnR0dGKjo42OwoAYJQVlxA/+eQTxcXF6Wc/+5lGjx6t+fPn68yZM6ZnAQAMsiJgra2t2rdvn371q1+ppqZG/fr108qVKzsd5/P55PF45PF4FAgEDCwFALjFioAlJCQoISFBOTk5kqSioiLt27ev03Fer1d+v19+v19xcXFuzwQAuMiKgA0bNkw333yzjhw5IknaunWr0tLSDK8CAJhkxYs4JOlPf/qTZs+erebmZiUlJamsrMz0JACAQdYELCsrS36/3/QMAECYsOISIgAA30XAAABWImAAACsRMACAlQgYAMBKBAwAYCUCBgCwEgEDAFiJgAEArETAAABWImAAACsRMACAlQgYAMBKBAwAYCUCBgCwEgEDAFiJgAEArETAAABWImAAACsRMACAlQgYAMBKUaYHhCoxMVEDBgxQZGSkoqKi5Pf7TU8CABhkTcAkafv27YqNjTU9AwAQBriECACwkjUBi4iI0L333qsxY8bI5/OZngMAMMyaS4i7du3SiBEj9MUXXyg/P18pKSnKzc3tcIzP52uPWyAQMDETAOASax6BjRgxQpIUHx+vadOmac+ePZ2O8Xq98vv98vv9iouLc3siAMBFVgTszJkzamxsbP/nv//978rIyDC8CgBgkhWXED///HNNmzZNktTa2qqHHnpIU6ZMMbwKAGCSFQFLSkrSgQMHTM8AAIQRKy4hAgDwXQQMAGAlAgYAsBIBAwBYiYABAKxEwAAAViJgAAArETAAgJUIGADASgQMAGAlAgYAsBIBAwBYiYABAKxEwAAAViJgAAArETAAgJUIGADASgQMAGAlowH73//+J8dxTE4AAFjKtYAtW7ZMhw8fliQ1NTUpLy9Pt956q4YOHar333/frRkAgB7CtYCtXbtWI0eOlCS9+uqrkqRAIKCdO3fqqaeecmsGAKCHcC1g0dHRioiIkCS99957mjVrliIjI5WamqrW1taQPkcwGNTo0aNVUFDQnVMBABZwLWB9+/bVwYMHFQgEtH37dt17773tt509ezakz7F69WqlpqZ210QAgEVcC9iqVatUVFSklJQUPfHEE7rlllskSZs2bdLo0aOv+PF1dXXauHGj5s+f391TAQAWiHLrjhITE9tfxHGhqVOnaurUqVf8+Mcff1ylpaVqbGzsjnkAAMu4FrCsrCxlZGTooYce0vTp0zVo0KCQP3bDhg2Kj4/XmDFjtGPHjkse5/P55PP5JH37AhG4o2b/fs1b+BvTM6yRMCxWS5/ifAHXy7WAHT9+XO+//74qKir05JNPaty4cSouLtZPfvIT3XDDDZf92OrqalVWVmrTpk06d+6cvvrqKz388MN64403Ohzn9Xrl9XolSR6Pp9v+LOjom+ZWZdzPpd1QHXznZdMTgB7BtefAIiMjNXnyZJWVlenYsWMqKSnR+vXrdcstt2j27NmX/dgVK1aorq5OtbW1qqio0KRJkzrFCwDQuxh5J47o6GilpaUpNTVVMTEx+s9//mNiBgDAYq4G7NixYyotLVV2drYKCgrU1tamyspK7du3L+TPcffdd2vDhg3duBIAYAPXngMbP368jh8/rgcffFAvvfSSxowZ49ZdAwB6INcCtnLlSuXm5qqhoUGxsbFu3S0AoIdy7RLi6dOnFR8fr8zMTCUkJKi6utqtuwYA9ECuBezpp59WVVWVTpw4obfeeos38AUAXBfXAhYVFaWUlBRJUk5ODu+oAQC4Lq49B/bFF1/o+eefv+SvFy9e7NYUAEAP4FrAfv7zn3d41PXdXwMAcDVcC9iSJUvcuisAQC/g2nNgL730ko4ePSpJchxHJSUlGjhwoDIzM1VTU+PWDABAD+FawFavXq3ExERJ0po1a3TgwAF9/PHHev7557Vw4UK3ZgAAeghXX4X4ve99T9K3Px7lkUce0ZAhQ3TPPffozJkzbs0AAPQQrgWsT58+qq+v17lz57R161bdc8897bd98803bs0AAPQQrr2IY9myZfJ4PAoGgyosLFR6erokaefOnUpKSnJrBgCgh3AtYAUFBfr000/V2Niom266qf33PR6P1q5d69YMAEAP4VrA3n777cvePn36dJeWAAB6AtcC9s4771zytoiICAIGALgqrgWsrKxMkvTss8/qt7/9rSSpqalJffv2dWsCAKAHce1ViH/4wx+0e/durVu3rv337rzzTrfuHgDQw7j2CCwlJUVvvvmmPv74Y911111KSUnRyZMndeTIEY0cOdKtGQCAHsK1R2CDBg3S8uXLlZycrB07dmjRokWSvv1JzePHj3drBgCgh3DtEdh7772nZcuW6aOPPtLixYuVmZmpfv36tT83djnnzp1Tbm6umpqa1NraqqKiIi1dutSF1QCAcOVawJYvXy5JGjVqlObMmaN9+/YpEAhowoQJuummmy77KsW+fftq27Zt6t+/v1paWjRhwgTdd999GjdunFvzAQBhxrWAnTd58mR5PB55PB69+OKL2rVrlxoaGi77MREREerfv78kqaWlRS0tLYqIiHBjLgAgTLn2HNh5paWl7f9cXl4uSYqNjb3ixwWDQWVlZSk+Pl75+fnKycnprokAAAu4HrALjRo1KuRjIyMjtX//ftXV1WnPnj06ePBgp2N8Pl/7o7tAINCVUwEAYcZowK7FoEGDlJeXp82bN3e6zev1yu/3y+/3Ky4uzsA6AIBbrAhYIBDQqVOnJH37o1e2bNmilJQUw6sAACa5/iKOa1FfX6+5c+cqGAyqra1NM2fOVEFBgelZAACDrAhYZmamampqTM8AAIQRKy4hAgDwXQQMAGAlAgYAsBIBAwBYiYABAKxEwAAAViJgAAArETAAgJUIGADASgQMAGAlAgYAsBIBAwBYiYABAKxEwAAAViJgAAArETAAgJUIGADASgQMAGAlAgYAsBIBAwBYiYABAKxkRcCOHTumvLw8paWlKT09XatXrzY9CQBgWJTpAaGIiorSc889p+zsbDU2NmrMmDHKz89XWlqa6WkAAEOseAQ2fPhwZWdnS5IGDBig1NRUHT9+3PAqAIBJVgTsQrW1taqpqVFOTo7pKQAAg6y4hHje119/rRkzZmjVqlWKiYnpdLvP55PP55MkBQIBt+cBAFxkzSOwlpYWzZgxQ7Nnz9b06dMveozX65Xf75ff71dcXJzLCwEAbrIiYI7jaN68eUpNTdXixYtNzwEAhAErAlZdXa3XX39d27ZtU1ZWlrKysrRp0ybTswAABlnxHNiECRPkOI7pGQCAMGLFIzAAAL6LgAEArETAAABWImAAACsRMACAlQgYAMBKBAwAYCUCBgCwEgEDAFiJgAEArETAAABWImAAACsRMACAlQgYAMBKBAwAYCUCBgCwEgEDAFiJgAEArETAAABWImAAACtZE7CSkhLFx8crIyPD9BQAQBiwJmCPPvqoNm/ebHoGACBMWBOw3NxcDR482PQMAECYsCZgAABcKMr0gK7k8/nk8/kkSYFAwPAaAF1hyfJS1X3WYHqGVRKGxWrpU78xPaPb9aiAeb1eeb1eSZLH4zG8BkBXqPusQRn3zzc9wyoH33nZ9ARXcAkRAGAlawJWXFysO++8U0eOHFFCQoJeeeUV05MAAAZZcwlxzZo1picAAMKINY/AAAC4EAEDAFiJgAEArETAAABWImAAACsRMACAlQgYAMBKBAwAYCUCBgCwEgEDAFiJgAEArETAAABWImAAACsRMACAlQgYAMBKBAwAYCUCBgCwEgEDAFiJgAEArETAAABWImAAACtZE7DNmzdr5MiRSk5O1sqVK03PAQAYZkXAgsGgFixYoHfffVcffvih1qxZow8//ND0LACAQVYEbM+ePUpOTlZSUpKio6M1a9YsrV+/3vQsAIBBVgTs+PHjuvnmm9t/nZCQoOPHjxtcBAAwLcr0gK7k8/nk8/kkSYcPH5bH47mmzxMIBHTgg21dOa1LBAIBxcXFmZ7RydlAQP/35EOmZ3QSrucrEAjIw39fIQvXr0cpvM/Ztf43Vltb27VjupEVARsxYoSOHTvW/uu6ujqNGDGi03Fer1der/e678/j8cjv91/35+lq7Lo67Lo67Lp64botXHd1NSsuId5xxx06evSoPvnkEzU3N6uiokKFhYWmZwEADLLiEVhUVJT+/Oc/a/LkyQoGgyopKVF6errpWQAAgyKfeeaZZ0yPCMVtt92mxx57TIsWLVJubm6339+YMWO6/T6uBbuuDruuDruuXrhuC9ddXSnCcRzH9AgAAK6WFc+BAQDwXb06YFd6e6ry8nLFxcUpKytLWVlZevnll7t9U0lJieLj45WRkXHR2x3H0cKFC5WcnKzMzEzt27ev2zeFsmvHjh0aOHBg+7latmyZK7uOHTumvLw8paWlKT09XatXr+50jIlzFsouE+fs3LlzGjt2rEaNGqX09HQtWbKk0zFNTU366U9/quTkZOXk5LjysupQdpn4ejwvGAxq9OjRKigo6HSbifMVyi6T58s1Ti/V2trqJCUlOR999JHT1NTkZGZmOocOHepwTFlZmbNgwQJXd+3cudPZu3evk56eftHbN27c6EyZMsVpa2tzdu/e7YwdOzYsdm3fvt358Y9/7MqWC504ccLZu3ev4ziO89VXXzm33XZbp3+PJs5ZKLtMnLO2tjansbHRcRzHaW5udsaOHevs3r27wzF/+ctfnF/84heO4zjOmjVrnJkzZ4bFLhNfj+c999xzTnFx8UX/fZk4X6HsMnm+3NJrH4GF69tT5ebmavDgwZe8ff369XrkkUcUERGhcePG6dSpU6qvrze+y5Thw4crOztbkjRgwAClpqZ2epcWE+cslF0mREREqH///pKklpYWtbS0KCIiosMx69ev19y5cyVJRUVF2rp1q5xufqo8lF2m1NXVaePGjZo/f/5FbzdxvkLZ1Rv02oCF+vZUb731ljIzM1VUVNThL1ObEs5vq7V7926NGjVK9913nw4dOuT6/dfW1qqmpkY5OTkdft/0ObvULsnMOQsGg8rKylJ8fLzy8/Mve76ioqI0cOBAnTx50vguyczX4+OPP67S0lL16XPxb5emzteVdknh9/2rq/XagIXi/vvvV21trf71r38pPz+//f9lobPs7Gx9+umnOnDggB577DE98MADrt7/119/rRkzZmjVqlWKiYlx9b4v53K7TJ2zyMhI7d+/X3V1ddqzZ48OHjzoyv1eyZV2mfh63LBhg+Lj48PuJemh7OoN3796bcBCeXuqIUOGqG/fvpKk+fPna+/eva5uvJhQ31bLbTExMe2XgKZOnaqWlhY1NDS4ct8tLS2aMWOGZs+erenTp3e63dQ5u9Iuk+dMkgYNGqS8vDxt3ry5w+9feL5aW1t1+vRpDRkyxPguE1+P1dXVqqysVGJiombNmqVt27bp4Ycf7nCMifMVyq5w/P7V1XptwEJ5e6oLnyeprKxUamqq2zM7KSws1GuvvSbHcfSPf/xDAwcO1PDhw03P0meffdZ+3X/Pnj1qa2tz5Zue4ziaN2+eUlNTtXjx4oseY+KchbLLxDkLBAI6deqUJOmbb77Rli1blJKS0uGYwsJCvfrqq5KkdevWadKkSd3+fFQou0x8Pa5YsUJ1dXWqra1VRUWFJk2apDfeeKPDMSbOVyi7wvH7V1ez4q2kusOl3p7qd7/7nTwejwoLC/XHP/5RlZWVioqK0uDBg1VeXt7tu4qLi7Vjxw41NDQoISFBS5cuVUtLiyTpl7/8paZOnapNmzYpOTlZN954o8rKyrp9Uyi71q1bpxdffFFRUVG64YYbVFFR4cqT8NXV1Xr99dd1++23KysrS5K0fPly/fe//23fZuKchbLLxDmrr6/X3LlzFQwG1dbWppkzZ6qgoKDDf/fz5s3TnDlzlJycrMGDB6uioqJbN4W6y8TX46WYPl+h7Aqn89VdeCcOAICVeu0lRACA3QgYAMBKBAwAYCUCBgCwEgEDAFiJgAHd4NFHH9W6detCPv7EiRMqKirqxkVAz0PAgDDw/e9//6qCB4CAAV3itddeU2ZmpkaNGqU5c+ZIkqqqqjR+/HglJSW1x8lxHP36179WRkaGbr/9dq1du1bSt2/4e/5nrb3wwgsqKSmRJP373/9WRkaGzp49a+BPBYS3XvtOHEBXOXTokJ599ll98MEHio2N1ZdffqnFixervr5eu3bt0uHDh1VYWKiioiK9/fbb2r9/vw4cOKCGhgbdcccdys3N7fD5Fi1apLvvvlt/+9vf9Pvf/15//etfdeONNxr60wHhi0dgwHXatm2bHnzwQcXGxkpS+89Ne+CBB9SnTx+lpaXp888/lyTt2rVLxcXFioyM1NChQzVx4kT985//7PD5+vTpo/Lycs2ZM0cTJ07Uj370I3f/QIAlCBjQTc6/E7ikq/4Bh0ePHlX//v114sSJrp4F9BgEDLhOkyZN0ptvvtn+Qwy//PLLSx571113ae3atQoGgwoEAqqqqtLYsWM7HHP69GktXLhQVVVVOnnyJC/uAC6B58CA65Senq6nn35aEydOVGRkpEaPHn3JY6dNm9b+U5gjIiJUWlqqYcOGqba2tv2YJ554QgsWLNAPf/hDvfLKK8rLy1Nubq7i4+Nd+NMA9uDd6AEAVuISIgDASgQMAGAlAgYAsBIBAwBYiYABAKxEwAAAVvp/d2Zc3W4a0LEAAAAASUVORK5CYII=' width=500px /></td><td><h4> résultats:</h4><BR>somme des choix=19<BR>moyenne=1.58333333333<BR>déviation standard=0.862006702732<BR>médiane=1.0<BR>min=1<BR>max=4</td></tr></table>"
      ],
      "text/plain": [
       "<IPython.core.display.HTML object>"
      ]
     },
     "metadata": {},
     "output_type": "display_data"
    },
    {
     "name": "stdout",
     "output_type": "stream",
     "text": [
      "somme des choix=19\n",
      "\n",
      "\u001b[1mISPV                     \u001b[0m \u001b[1mPOSTE               \u001b[0m \u001b[1mCHOIX     \u001b[0m\n",
      "Agnes                     Poste 6              2         \n",
      "Cecile                    Optionnel 1          4         \n",
      "Claudine                  Poste 9              2         \n",
      "Elise                     Optionnel 6          2         \n",
      "FCPR                      Optionnel 2          1         \n",
      "Helene                    Poste 4              1         \n",
      "Linda                     Poste 2              1         \n",
      "Nathalie                  Poste 10             1         \n",
      "Sofia                     Optionnel 4          1         \n",
      "X                         Optionnel 3          2         \n",
      "XX                        Optionnel 7          1         \n",
      "XXX                       Poste 1              1         \n",
      "\n",
      "========================== assignation 5 =====================================\n"
     ]
    },
    {
     "data": {
      "text/html": [
       "<table><tr><td><img src='data:image/png;base64,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' width=500px /></td><td><h4> résultats:</h4><BR>somme des choix=19<BR>moyenne=1.58333333333<BR>déviation standard=0.640095478989<BR>médiane=1.5<BR>min=1<BR>max=3</td></tr></table>"
      ],
      "text/plain": [
       "<IPython.core.display.HTML object>"
      ]
     },
     "metadata": {},
     "output_type": "display_data"
    },
    {
     "name": "stdout",
     "output_type": "stream",
     "text": [
      "somme des choix=19\n",
      "\n",
      "\u001b[1mISPV                     \u001b[0m \u001b[1mPOSTE               \u001b[0m \u001b[1mCHOIX     \u001b[0m\n",
      "Agnes                     Poste 6              2         \n",
      "Cecile                    Optionnel 7          1         \n",
      "Claudine                  Poste 9              2         \n",
      "Elise                     Poste 3              3         \n",
      "FCPR                      Optionnel 2          1         \n",
      "Helene                    Poste 4              1         \n",
      "Linda                     Optionnel 6          2         \n",
      "Nathalie                  Poste 10             1         \n",
      "Sofia                     Optionnel 4          1         \n",
      "X                         Optionnel 3          2         \n",
      "XX                        Poste 2              2         \n",
      "XXX                       Poste 1              1         \n",
      "\n",
      "========================== assignation 6 =====================================\n"
     ]
    },
    {
     "data": {
      "text/html": [
       "<table><tr><td><img src='data:image/png;base64,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' width=500px /></td><td><h4> résultats:</h4><BR>somme des choix=19<BR>moyenne=1.58333333333<BR>déviation standard=0.953793595188<BR>médiane=1.0<BR>min=1<BR>max=4</td></tr></table>"
      ],
      "text/plain": [
       "<IPython.core.display.HTML object>"
      ]
     },
     "metadata": {},
     "output_type": "display_data"
    },
    {
     "name": "stdout",
     "output_type": "stream",
     "text": [
      "somme des choix=19\n",
      "\n",
      "\u001b[1mISPV                     \u001b[0m \u001b[1mPOSTE               \u001b[0m \u001b[1mCHOIX     \u001b[0m\n",
      "Agnes                     Poste 6              2         \n",
      "Cecile                    Optionnel 7          1         \n",
      "Claudine                  Poste 9              2         \n",
      "Elise                     Optionnel 3          1         \n",
      "FCPR                      Optionnel 2          1         \n",
      "Helene                    Poste 4              1         \n",
      "Linda                     Poste 2              1         \n",
      "Nathalie                  Poste 5              4         \n",
      "Sofia                     Optionnel 4          1         \n",
      "X                         Poste 10             1         \n",
      "XX                        Poste 3              3         \n",
      "XXX                       Poste 1              1         \n",
      "\n",
      "========================== assignation 7 =====================================\n"
     ]
    },
    {
     "data": {
      "text/html": [
       "<table><tr><td><img src='data:image/png;base64,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' width=500px /></td><td><h4> résultats:</h4><BR>somme des choix=19<BR>moyenne=1.58333333333<BR>déviation standard=0.640095478989<BR>médiane=1.5<BR>min=1<BR>max=3</td></tr></table>"
      ],
      "text/plain": [
       "<IPython.core.display.HTML object>"
      ]
     },
     "metadata": {},
     "output_type": "display_data"
    },
    {
     "name": "stdout",
     "output_type": "stream",
     "text": [
      "somme des choix=19\n",
      "\n",
      "\u001b[1mISPV                     \u001b[0m \u001b[1mPOSTE               \u001b[0m \u001b[1mCHOIX     \u001b[0m\n",
      "Agnes                     Poste 6              2         \n",
      "Cecile                    Optionnel 7          1         \n",
      "Claudine                  Poste 9              2         \n",
      "Elise                     Optionnel 3          1         \n",
      "FCPR                      Optionnel 2          1         \n",
      "Helene                    Poste 2              2         \n",
      "Linda                     Optionnel 6          2         \n",
      "Nathalie                  Poste 4              2         \n",
      "Sofia                     Optionnel 4          1         \n",
      "X                         Poste 10             1         \n",
      "XX                        Poste 3              3         \n",
      "XXX                       Poste 1              1         \n",
      "\n",
      "========================== assignation 8 =====================================\n"
     ]
    },
    {
     "data": {
      "text/html": [
       "<table><tr><td><img src='data:image/png;base64,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' width=500px /></td><td><h4> résultats:</h4><BR>somme des choix=19<BR>moyenne=1.58333333333<BR>déviation standard=0.759202798262<BR>médiane=1.0<BR>min=1<BR>max=3</td></tr></table>"
      ],
      "text/plain": [
       "<IPython.core.display.HTML object>"
      ]
     },
     "metadata": {},
     "output_type": "display_data"
    },
    {
     "name": "stdout",
     "output_type": "stream",
     "text": [
      "somme des choix=19\n",
      "\n",
      "\u001b[1mISPV                     \u001b[0m \u001b[1mPOSTE               \u001b[0m \u001b[1mCHOIX     \u001b[0m\n",
      "Agnes                     Poste 6              2         \n",
      "Cecile                    Optionnel 7          1         \n",
      "Claudine                  Poste 9              2         \n",
      "Elise                     Optionnel 3          1         \n",
      "FCPR                      Optionnel 2          1         \n",
      "Helene                    Poste 4              1         \n",
      "Linda                     Optionnel 6          2         \n",
      "Nathalie                  Poste 10             1         \n",
      "Sofia                     Optionnel 4          1         \n",
      "X                         Poste 2              3         \n",
      "XX                        Poste 3              3         \n",
      "XXX                       Poste 1              1         \n",
      "\n",
      "========================== assignation 9 =====================================\n"
     ]
    },
    {
     "data": {
      "text/html": [
       "<table><tr><td><img src='data:image/png;base64,iVBORw0KGgoAAAANSUhEUgAAAbAAAAEgCAYAAADVKCZpAAAABHNCSVQICAgIfAhkiAAAAAlwSFlzAAALEgAACxIB0t1+/AAAFpJJREFUeJzt3XtwlPWhxvEnJIWpXIUkQInTGKO5GkJYiVIMhgFBGlMDkYKI2EC3dhhBmbEzR3tqYSzQzGihl3G6ahMvZxJGtEMExFICpGA6dCGhBQuHo8aSEHWDDUVuSTbv+cMhQwyXBZL3t7/w/cx0Rtg32YdXk2/33WUT4TiOIwAALNPH9AAAAK4GAQMAWImAAQCsRMAAAFYiYAAAKxEwAICVCBgAwEoEDABgJQIGALASAQMAWImAAQCsRMAAAFYiYAAAKxEwAICVCBgAwEoEDABgJQIGALASAQMAWImAAQCsRMAAAFYiYAAAKxEwAICVCBgAwEoEDABgJQIGALASAQMAWImAAQCsRMAAAFYiYAAAKxEwAICVCBgAwEoEDABgJQIGALASAQMAWCnK9ICeEh0drfj4eNMzAMAqdXV1ampqMj0jJL02YPHx8fL7/aZnAIBVPB6P6Qkh4xIiAMBKBAwAYCUCBgCwEgEDAFjJioAdOnRImZmZHf8bNGiQVq9ebXoWAMAgK16FmJSUpNraWklSMBjUqFGjVFBQYHgVAMAkKx6BnW/r1q265ZZb9O1vf9v0FACAQdYFrLy8XHPmzDE9AwBgmBWXEM9paWlRRUWFVq5cecHbfT6ffD6fJCkQCFz1/Ty7olj1n9rxN9HDQdyIaC17+iemZwC4zlgVsHfffVdZWVkaPnz4BW/3er3yer2Sru1vk9d/2qT0+xde9cdfb/a/87LpCQCuQ1ZdQiwrK+PyIQBAkkUBO3nypLZs2aIZM2aYngIACAPWXELs37+/jh07ZnoGACBMWPMIDACA8xEwAICVCBgAwEoEDABgJQIGALASAQMAWImAAQCsRMAAAFYiYAAAKxEwAICVCBgAwEoEDABgJQIGALASAQMAWImAAQCsRMAAAFYiYAAAKxEwAICVCBgAwEoEDABgJWsC1tzcrMLCQiUnJyslJUXV1dWmJwEADIoyPSBUS5Ys0bRp07Ru3Tq1tLTo1KlTpicBAAyyImDHjx9XVVWVSktLJUl9+/ZV3759zY4CABhlxSXEjz/+WDExMfrBD36gMWPGaOHChTp58qTpWQAAg6wIWFtbm/bu3asf//jHqqmpUf/+/bVq1aoux/l8Pnk8Hnk8HgUCAQNLAQBusSJgcXFxiouLU3Z2tiSpsLBQe/fu7XKc1+uV3++X3+9XTEyM2zMBAC6yImAjRozQTTfdpEOHDkmStm7dqtTUVMOrAAAmWfEiDkn6zW9+o7lz56qlpUUJCQkqKSkxPQkAYJA1AcvMzJTf7zc9AwAQJqy4hAgAwNcRMACAlQgYAMBKBAwAYCUCBgCwEgEDAFiJgAEArETAAABWImAAACsRMACAlQgYAMBKBAwAYCUCBgCwEgEDAFiJgAEArETAAABWImAAACsRMACAlQgYAMBKBAwAYCUCBgCwUpTpAaGKj4/XwIEDFRkZqaioKPn9ftOTAAAGWRMwSdq2bZuio6NNzwAAhAEuIQIArGRNwCIiInTvvfdq7Nix8vl8pucAAAyz5hLizp07NWrUKH3++eeaMmWKkpOTlZOT0+kYn8/XEbdAIGBiJgDAJdY8Ahs1apQkKTY2VgUFBdq9e3eXY7xer/x+v/x+v2JiYtyeCABwkRUBO3nypE6cONHxz3/605+Unp5ueBUAwCQrLiF+9tlnKigokCS1tbXpoYce0rRp0wyvAgCYZEXAEhIStG/fPtMzAABhxIpLiAAAfB0BAwBYiYABAKxEwAAAViJgAAArETAAgJUIGADASgQMAGAlAgYAsBIBAwBYiYABAKxEwAAAViJgAAArETAAgJUIGADASgQMAGAlAgYAsBIBAwBYyWjA/v3vf8txHJMTAACWci1gy5cv18GDByVJZ8+eVW5urm655RYNHz5cf/7zn92aAQDoJVwL2Nq1a5WUlCRJevXVVyVJgUBAO3bs0NNPP+3WDABAL+FawPr27auIiAhJ0nvvvafZs2crMjJSKSkpamtrC+lzBINBjRkzRnl5eT05FQBgAdcC1q9fP+3fv1+BQEDbtm3Tvffe23HbqVOnQvoca9asUUpKSk9NBABYxLWArV69WoWFhUpOTtaTTz6pm2++WZK0adMmjRkz5rIfX19fr40bN2rhwoU9PRUAYIEot+4oPj6+40Uc55s+fbqmT59+2Y9/4oknVFxcrBMnTvTEPACAZVx7BJaZmanJkyfrD3/4g5qbm6/oYzds2KDY2FiNHTv2ksf5fD55PB55PB4FAoFrmQsACHOuBayhoUFPPfWU/vKXvygpKUnf+973VF5ertOnT1/2Y3ft2qWKigrFx8dr9uzZqqys1MMPP9zlOK/XK7/fL7/fr5iYmJ74YwAAwoRrAYuMjNTUqVNVUlKiI0eOqKioSOvXr9fNN9+suXPnXvJjV65cqfr6etXV1am8vFyTJk3SG2+84dJyAEA4MvJOHH379lVqaqpSUlI0aNAg/fOf/zQxAwBgMVcDduTIERUXFysrK0t5eXlqb29XRUWF9u7dG/LnuOeee7Rhw4YeXAkAsIFrr0IcP368Ghoa9OCDD+qll1667AsyAAC4FNcCtmrVKuXk5KipqUnR0dFu3S0AoJdy7RLi8ePHFRsbq4yMDMXFxWnXrl1u3TUAoBdyLWDPPPOMqqqqdPToUb311lu8gS8A4Jq4FrCoqCglJydLkrKzs3lHDQDANXHtObDPP/9cL7zwwkV/vXTpUremAAB6AdcC9sMf/rDTo66v/xoAgCvhWsCeffZZt+4KAHAdcO05sJdeekmHDx+WJDmOo6KiIg0ePFgZGRmqqalxawYAoJdwLWBr1qxRfHy8JKmsrEz79u3TRx99pBdeeEGLFy92awYAoJdw9VWI3/jGNyR99eNRHnnkEQ0bNkyTJ0/WyZMn3ZoBAOglXAtYnz591NjYqDNnzmjr1q2aPHlyx22h/EgVAADO59qLOJYvXy6Px6NgMKj8/HylpaVJknbs2KGEhAS3ZgAAegnXApaXl6dPPvlEJ06c0I033tjx+x6PR2vXrnVrBgCgl3AtYG+//fYlb58xY4ZLSwAAvYFrAXvnnXcueltERAQBAwBcEdcCVlJSIkl67rnn9NOf/lSSdPbsWfXr18+tCQCAXsS1VyH+8pe/VHV1tdatW9fxe3fddZdbdw8A6GVcewSWnJysN998Ux999JHuvvtuJScn69ixYzp06JCSkpLcmgEA6CVcewQ2ZMgQrVixQomJidq+fbuWLFki6auf1Dx+/Hi3ZgAAegnXHoG99957Wr58uT788EMtXbpUGRkZ6t+/f8dzY5dy5swZ5eTk6OzZs2pra1NhYaGWLVvmwmoAQLhyLWArVqyQJI0ePVrz5s3T3r17FQgENGHCBN14442XfJViv379VFlZqQEDBqi1tVUTJkzQfffdpzvvvNOt+QCAMONawM6ZOnWqPB6PPB6PXnzxRe3cuVNNTU2X/JiIiAgNGDBAktTa2qrW1lZFRES4MRcAEKZcew7snOLi4o5/Li0tlSRFR0df9uOCwaAyMzMVGxurKVOmKDs7u6cmAgAs4PojsPONHj065GMjIyNVW1ur5uZmFRQUaP/+/UpPT+90jM/nk8/nkyQFAoFu3YqLq6mt1YLFPzE9wxpxI6K17GnOF3CtjAbsagwZMkS5ubnavHlzl4B5vV55vV5JX73HItxxuqVN6fcvND3DGvvfedn0BKBXcP0S4tUIBAJqbm6W9NWPXtmyZYuSk5MNrwIAmGTFI7DGxkbNnz9fwWBQ7e3tmjVrlvLy8kzPAgAYZEXAMjIyVFNTY3oGACCMWHEJEQCAryNgAAArETAAgJUIGADASgQMAGAlAgYAsBIBAwBYiYABAKxEwAAAViJgAAArETAAgJUIGADASgQMAGAlAgYAsBIBAwBYiYABAKxEwAAAViJgAAArETAAgJUIGADASgQMAGAlKwJ25MgR5ebmKjU1VWlpaVqzZo3pSQAAw6JMDwhFVFSUnn/+eWVlZenEiRMaO3aspkyZotTUVNPTAACGWPEIbOTIkcrKypIkDRw4UCkpKWpoaDC8CgBgkhUBO19dXZ1qamqUnZ1tegoAwCArLiGe8+WXX2rmzJlavXq1Bg0a1OV2n88nn88nSQoEAm7PAwC4yJpHYK2trZo5c6bmzp2rGTNmXPAYr9crv98vv9+vmJgYlxcCANxkRcAcx9GCBQuUkpKipUuXmp4DAAgDVgRs165dev3111VZWanMzExlZmZq06ZNpmcBAAyy4jmwCRMmyHEc0zMAAGHEikdgAAB8HQEDAFiJgAEArETAAABWImAAACsRMACAlQgYAMBKBAwAYCUCBgCwEgEDAFiJgAEArETAAABWImAAACsRMACAlQgYAMBKBAwAYCUCBgCwEgEDAFiJgAEArETAAABWsiZgRUVFio2NVXp6uukpAIAwYE3AHn30UW3evNn0DABAmLAmYDk5ORo6dKjpGQCAMGFNwAAAOF+U6QHdyefzyefzSZICgYDhNcCF1dTWasHin5ieYY2P/u9/lZB4m+kZVokbEa1lT/f+/8Z6VcC8Xq+8Xq8kyePxGF4DXNjpljal37/Q9AxrvP/fjymf83VF9r/zsukJruASIgDAStYEbM6cObrrrrt06NAhxcXF6ZVXXjE9CQBgkDWXEMvKykxPAACEEWsegQEAcD4CBgCwEgEDAFiJgAEArETAAABWImAAACsRMACAlQgYAMBKBAwAYCUCBgCwEgEDAFiJgAEArETAAABWImAAACsRMACAlQgYAMBKBAwAYCUCBgCwEgEDAFiJgAEArETAAABWsiZgmzdvVlJSkhITE7Vq1SrTcwAAhlkRsGAwqEWLFundd9/VBx98oLKyMn3wwQemZwEADLIiYLt371ZiYqISEhLUt29fzZ49W+vXrzc9CwBgkBUBa2ho0E033dTx67i4ODU0NBhcBAAwLcr0gO7k8/nk8/kkSQcPHpTH47mqzxMIBLTv/crunNYtAoGAYmJiTM/o4lQgoP/5r4dMz+iC83VlOF9XLlzPWSAQkOcqv4fV1dV175geZEXARo0apSNHjnT8ur6+XqNGjepynNfrldfrveb783g88vv91/x5uhu7rgy7rgy7rly4bgvXXd3NikuId9xxhw4fPqyPP/5YLS0tKi8vV35+vulZAACDrHgEFhUVpd/+9reaOnWqgsGgioqKlJaWZnoWAMCgyJ///Oc/Nz0iFLfeeqsef/xxLVmyRDk5OT1+f2PHju3x+7ga7Loy7Loy7Lpy4botXHd1pwjHcRzTIwAAuFJWPAcGAMDXXdcBu9zbU5WWliomJkaZmZnKzMzUyy+/3OObioqKFBsbq/T09Ave7jiOFi9erMTERGVkZGjv3r09vimUXdu3b9fgwYM7ztXy5ctd2XXkyBHl5uYqNTVVaWlpWrNmTZdjTJyzUHaZOGdnzpzRuHHjNHr0aKWlpenZZ5/tcszZs2f1/e9/X4mJicrOznblZdWh7DLx9XhOMBjUmDFjlJeX1+U2E+crlF0mz5drnOtUW1ubk5CQ4Hz44YfO2bNnnYyMDOfAgQOdjikpKXEWLVrk6q4dO3Y4e/bscdLS0i54+8aNG51p06Y57e3tTnV1tTNu3Liw2LVt2zbnu9/9ritbznf06FFnz549juM4zn/+8x/n1ltv7fLv0cQ5C2WXiXPW3t7unDhxwnEcx2lpaXHGjRvnVFdXdzrmd7/7nfOjH/3IcRzHKSsrc2bNmhUWu0x8PZ7z/PPPO3PmzLngvy8T5yuUXSbPl1uu20dg4fr2VDk5ORo6dOhFb1+/fr0eeeQRRURE6M4771Rzc7MaGxuN7zJl5MiRysrKkiQNHDhQKSkpXd6lxcQ5C2WXCRERERowYIAkqbW1Va2trYqIiOh0zPr16zV//nxJUmFhobZu3Sqnh58qD2WXKfX19dq4caMWLlx4wdtNnK9Qdl0PrtuAhfr2VG+99ZYyMjJUWFjY6S9TmxLOb6tVXV2t0aNH67777tOBAwdcv/+6ujrV1NQoOzu70++bPmcX2yWZOWfBYFCZmZmKjY3VlClTLnm+oqKiNHjwYB07dsz4LsnM1+MTTzyh4uJi9elz4W+Xps7X5XZJ4ff9q7tdtwELxf3336+6ujr9/e9/15QpUzr+Xxa6ysrK0ieffKJ9+/bp8ccf1wMPPODq/X/55ZeaOXOmVq9erUGDBrl635dyqV2mzllkZKRqa2tVX1+v3bt3a//+/a7c7+VcbpeJr8cNGzYoNjY27F6SHsqu6+H713UbsFDenmrYsGHq16+fJGnhwoXas2ePqxsvJNS31XLboEGDOi4BTZ8+Xa2trWpqanLlvltbWzVz5kzNnTtXM2bM6HK7qXN2uV0mz5kkDRkyRLm5udq8eXOn3z//fLW1ten48eMaNmyY8V0mvh537dqliooKxcfHa/bs2aqsrNTDDz/c6RgT5yuUXeH4/au7XbcBC+Xtqc5/nqSiokIpKSluz+wiPz9fr732mhzH0V//+lcNHjxYI0eOND1Ln376acd1/927d6u9vd2Vb3qO42jBggVKSUnR0qVLL3iMiXMWyi4T5ywQCKi5uVmSdPr0aW3ZskXJycmdjsnPz9err74qSVq3bp0mTZrU489HhbLLxNfjypUrVV9fr7q6OpWXl2vSpEl64403Oh1j4nyFsiscv391NyveSqonXOztqX72s5/J4/EoPz9fv/71r1VRUaGoqCgNHTpUpaWlPb5rzpw52r59u5qamhQXF6dly5aptbVVkvTYY49p+vTp2rRpkxITE3XDDTeopKSkxzeFsmvdunV68cUXFRUVpW9+85sqLy935Un4Xbt26fXXX9ftt9+uzMxMSdKKFSv0r3/9q2ObiXMWyi4T56yxsVHz589XMBhUe3u7Zs2apby8vE7/3S9YsEDz5s1TYmKihg4dqvLy8h7dFOouE1+PF2P6fIWyK5zOV0/hnTgAAFa6bi8hAgDsRsAAAFYiYAAAKxEwAICVCBgAwEoEDOgBjz76qNatWxfy8UePHlVhYWEPLgJ6HwIGhIFvfetbVxQ8AAQM6BavvfaaMjIyNHr0aM2bN0+SVFVVpfHjxyshIaEjTo7j6KmnnlJ6erpuv/12rV27VtJXb/h77met/epXv1JRUZEk6R//+IfS09N16tQpA38qILxdt+/EAXSXAwcO6LnnntP777+v6OhoffHFF1q6dKkaGxu1c+dOHTx4UPn5+SosLNTbb7+t2tpa7du3T01NTbrjjjuUk5PT6fMtWbJE99xzj/74xz/qF7/4hX7/+9/rhhtuMPSnA8IXj8CAa1RZWakHH3xQ0dHRktTxc9MeeOAB9enTR6mpqfrss88kSTt37tScOXMUGRmp4cOHa+LEifrb3/7W6fP16dNHpaWlmjdvniZOnKjvfOc77v6BAEsQMKCHnHsncElX/AMODx8+rAEDBujo0aPdPQvoNQgYcI0mTZqkN998s+OHGH7xxRcXPfbuu+/W2rVrFQwGFQgEVFVVpXHjxnU65vjx41q8eLGqqqp07NgxXtwBXATPgQHXKC0tTc8884wmTpyoyMhIjRkz5qLHFhQUdPwU5oiICBUXF2vEiBGqq6vrOObJJ5/UokWLdNttt+mVV15Rbm6ucnJyFBsb68KfBrAH70YPALASlxABAFYiYAAAKxEwAICVCBgAwEoEDABgJQIGALDS/wMQU1zOZU1LkAAAAABJRU5ErkJggg==' width=500px /></td><td><h4> résultats:</h4><BR>somme des choix=20<BR>moyenne=1.66666666667<BR>déviation standard=0.942809041582<BR>médiane=1.0<BR>min=1<BR>max=4</td></tr></table>"
      ],
      "text/plain": [
       "<IPython.core.display.HTML object>"
      ]
     },
     "metadata": {},
     "output_type": "display_data"
    },
    {
     "name": "stdout",
     "output_type": "stream",
     "text": [
      "somme des choix=20\n",
      "\n",
      "\u001b[1mISPV                     \u001b[0m \u001b[1mPOSTE               \u001b[0m \u001b[1mCHOIX     \u001b[0m\n",
      "Agnes                     Poste 3              3         \n",
      "Cecile                    Optionnel 1          4         \n",
      "Claudine                  Poste 9              2         \n",
      "Elise                     Optionnel 6          2         \n",
      "FCPR                      Optionnel 2          1         \n",
      "Helene                    Poste 4              1         \n",
      "Linda                     Poste 2              1         \n",
      "Nathalie                  Poste 10             1         \n",
      "Sofia                     Optionnel 4          1         \n",
      "X                         Optionnel 3          2         \n",
      "XX                        Optionnel 7          1         \n",
      "XXX                       Poste 1              1         \n",
      "\n",
      "========================== assignation 10 =====================================\n"
     ]
    },
    {
     "data": {
      "text/html": [
       "<table><tr><td><img src='data:image/png;base64,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' width=500px /></td><td><h4> résultats:</h4><BR>somme des choix=20<BR>moyenne=1.66666666667<BR>déviation standard=0.942809041582<BR>médiane=1.0<BR>min=1<BR>max=4</td></tr></table>"
      ],
      "text/plain": [
       "<IPython.core.display.HTML object>"
      ]
     },
     "metadata": {},
     "output_type": "display_data"
    },
    {
     "name": "stdout",
     "output_type": "stream",
     "text": [
      "somme des choix=20\n",
      "\n",
      "\u001b[1mISPV                     \u001b[0m \u001b[1mPOSTE               \u001b[0m \u001b[1mCHOIX     \u001b[0m\n",
      "Agnes                     Poste 6              2         \n",
      "Cecile                    Optionnel 7          1         \n",
      "Claudine                  Poste 5              4         \n",
      "Elise                     Optionnel 6          2         \n",
      "FCPR                      Optionnel 2          1         \n",
      "Helene                    Poste 4              1         \n",
      "Linda                     Poste 2              1         \n",
      "Nathalie                  Poste 10             1         \n",
      "Sofia                     Optionnel 4          1         \n",
      "X                         Optionnel 3          2         \n",
      "XX                        Poste 3              3         \n",
      "XXX                       Poste 1              1         \n",
      "\n",
      "========================== assignation 11 =====================================\n"
     ]
    },
    {
     "data": {
      "text/html": [
       "<table><tr><td><img src='data:image/png;base64,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' width=500px /></td><td><h4> résultats:</h4><BR>somme des choix=20<BR>moyenne=1.66666666667<BR>déviation standard=0.942809041582<BR>médiane=1.0<BR>min=1<BR>max=4</td></tr></table>"
      ],
      "text/plain": [
       "<IPython.core.display.HTML object>"
      ]
     },
     "metadata": {},
     "output_type": "display_data"
    },
    {
     "name": "stdout",
     "output_type": "stream",
     "text": [
      "somme des choix=20\n",
      "\n",
      "\u001b[1mISPV                     \u001b[0m \u001b[1mPOSTE               \u001b[0m \u001b[1mCHOIX     \u001b[0m\n",
      "Agnes                     Poste 6              2         \n",
      "Cecile                    Optionnel 1          4         \n",
      "Claudine                  Poste 3              3         \n",
      "Elise                     Optionnel 6          2         \n",
      "FCPR                      Optionnel 2          1         \n",
      "Helene                    Poste 4              1         \n",
      "Linda                     Poste 2              1         \n",
      "Nathalie                  Poste 10             1         \n",
      "Sofia                     Optionnel 4          1         \n",
      "X                         Optionnel 3          2         \n",
      "XX                        Optionnel 7          1         \n",
      "XXX                       Poste 1              1         \n",
      "\n",
      "========================== assignation 12 =====================================\n"
     ]
    },
    {
     "data": {
      "text/html": [
       "<table><tr><td><img src='data:image/png;base64,iVBORw0KGgoAAAANSUhEUgAAAbAAAAEgCAYAAADVKCZpAAAABHNCSVQICAgIfAhkiAAAAAlwSFlzAAALEgAACxIB0t1+/AAAFpJJREFUeJzt3XtwlPWhxvEnJIWpXIUkQInTGKO5GkJYiVIMhgFBGlMDkYKI2EC3dhhBmbEzR3tqYSzQzGihl3G6ahMvZxJGtEMExFICpGA6dCGhBQuHo8aSEHWDDUVuSTbv+cMhQwyXBZL3t7/w/cx0Rtg32YdXk2/33WUT4TiOIwAALNPH9AAAAK4GAQMAWImAAQCsRMAAAFYiYAAAKxEwAICVCBgAwEoEDABgJQIGALASAQMAWImAAQCsRMAAAFYiYAAAKxEwAICVCBgAwEoEDABgJQIGALASAQMAWImAAQCsRMAAAFYiYAAAKxEwAICVCBgAwEoEDABgJQIGALASAQMAWImAAQCsRMAAAFYiYAAAKxEwAICVCBgAwEoEDABgJQIGALASAQMAWCnK9ICeEh0drfj4eNMzAMAqdXV1ampqMj0jJL02YPHx8fL7/aZnAIBVPB6P6Qkh4xIiAMBKBAwAYCUCBgCwEgEDAFjJioAdOnRImZmZHf8bNGiQVq9ebXoWAMAgK16FmJSUpNraWklSMBjUqFGjVFBQYHgVAMAkKx6BnW/r1q265ZZb9O1vf9v0FACAQdYFrLy8XHPmzDE9AwBgmBWXEM9paWlRRUWFVq5cecHbfT6ffD6fJCkQCFz1/Ty7olj1n9rxN9HDQdyIaC17+iemZwC4zlgVsHfffVdZWVkaPnz4BW/3er3yer2Sru1vk9d/2qT0+xde9cdfb/a/87LpCQCuQ1ZdQiwrK+PyIQBAkkUBO3nypLZs2aIZM2aYngIACAPWXELs37+/jh07ZnoGACBMWPMIDACA8xEwAICVCBgAwEoEDABgJQIGALASAQMAWImAAQCsRMAAAFYiYAAAKxEwAICVCBgAwEoEDABgJQIGALASAQMAWImAAQCsRMAAAFYiYAAAKxEwAICVCBgAwEoEDABgJWsC1tzcrMLCQiUnJyslJUXV1dWmJwEADIoyPSBUS5Ys0bRp07Ru3Tq1tLTo1KlTpicBAAyyImDHjx9XVVWVSktLJUl9+/ZV3759zY4CABhlxSXEjz/+WDExMfrBD36gMWPGaOHChTp58qTpWQAAg6wIWFtbm/bu3asf//jHqqmpUf/+/bVq1aoux/l8Pnk8Hnk8HgUCAQNLAQBusSJgcXFxiouLU3Z2tiSpsLBQe/fu7XKc1+uV3++X3+9XTEyM2zMBAC6yImAjRozQTTfdpEOHDkmStm7dqtTUVMOrAAAmWfEiDkn6zW9+o7lz56qlpUUJCQkqKSkxPQkAYJA1AcvMzJTf7zc9AwAQJqy4hAgAwNcRMACAlQgYAMBKBAwAYCUCBgCwEgEDAFiJgAEArETAAABWImAAACsRMACAlQgYAMBKBAwAYCUCBgCwEgEDAFiJgAEArETAAABWImAAACsRMACAlQgYAMBKBAwAYCUCBgCwUpTpAaGKj4/XwIEDFRkZqaioKPn9ftOTAAAGWRMwSdq2bZuio6NNzwAAhAEuIQIArGRNwCIiInTvvfdq7Nix8vl8pucAAAyz5hLizp07NWrUKH3++eeaMmWKkpOTlZOT0+kYn8/XEbdAIGBiJgDAJdY8Ahs1apQkKTY2VgUFBdq9e3eXY7xer/x+v/x+v2JiYtyeCABwkRUBO3nypE6cONHxz3/605+Unp5ueBUAwCQrLiF+9tlnKigokCS1tbXpoYce0rRp0wyvAgCYZEXAEhIStG/fPtMzAABhxIpLiAAAfB0BAwBYiYABAKxEwAAAViJgAAArETAAgJUIGADASgQMAGAlAgYAsBIBAwBYiYABAKxEwAAAViJgAAArETAAgJUIGADASgQMAGAlAgYAsBIBAwBYyWjA/v3vf8txHJMTAACWci1gy5cv18GDByVJZ8+eVW5urm655RYNHz5cf/7zn92aAQDoJVwL2Nq1a5WUlCRJevXVVyVJgUBAO3bs0NNPP+3WDABAL+FawPr27auIiAhJ0nvvvafZs2crMjJSKSkpamtrC+lzBINBjRkzRnl5eT05FQBgAdcC1q9fP+3fv1+BQEDbtm3Tvffe23HbqVOnQvoca9asUUpKSk9NBABYxLWArV69WoWFhUpOTtaTTz6pm2++WZK0adMmjRkz5rIfX19fr40bN2rhwoU9PRUAYIEot+4oPj6+40Uc55s+fbqmT59+2Y9/4oknVFxcrBMnTvTEPACAZVx7BJaZmanJkyfrD3/4g5qbm6/oYzds2KDY2FiNHTv2ksf5fD55PB55PB4FAoFrmQsACHOuBayhoUFPPfWU/vKXvygpKUnf+973VF5ertOnT1/2Y3ft2qWKigrFx8dr9uzZqqys1MMPP9zlOK/XK7/fL7/fr5iYmJ74YwAAwoRrAYuMjNTUqVNVUlKiI0eOqKioSOvXr9fNN9+suXPnXvJjV65cqfr6etXV1am8vFyTJk3SG2+84dJyAEA4MvJOHH379lVqaqpSUlI0aNAg/fOf/zQxAwBgMVcDduTIERUXFysrK0t5eXlqb29XRUWF9u7dG/LnuOeee7Rhw4YeXAkAsIFrr0IcP368Ghoa9OCDD+qll1667AsyAAC4FNcCtmrVKuXk5KipqUnR0dFu3S0AoJdy7RLi8ePHFRsbq4yMDMXFxWnXrl1u3TUAoBdyLWDPPPOMqqqqdPToUb311lu8gS8A4Jq4FrCoqCglJydLkrKzs3lHDQDANXHtObDPP/9cL7zwwkV/vXTpUremAAB6AdcC9sMf/rDTo66v/xoAgCvhWsCeffZZt+4KAHAdcO05sJdeekmHDx+WJDmOo6KiIg0ePFgZGRmqqalxawYAoJdwLWBr1qxRfHy8JKmsrEz79u3TRx99pBdeeEGLFy92awYAoJdw9VWI3/jGNyR99eNRHnnkEQ0bNkyTJ0/WyZMn3ZoBAOglXAtYnz591NjYqDNnzmjr1q2aPHlyx22h/EgVAADO59qLOJYvXy6Px6NgMKj8/HylpaVJknbs2KGEhAS3ZgAAegnXApaXl6dPPvlEJ06c0I033tjx+x6PR2vXrnVrBgCgl3AtYG+//fYlb58xY4ZLSwAAvYFrAXvnnXcueltERAQBAwBcEdcCVlJSIkl67rnn9NOf/lSSdPbsWfXr18+tCQCAXsS1VyH+8pe/VHV1tdatW9fxe3fddZdbdw8A6GVcewSWnJysN998Ux999JHuvvtuJScn69ixYzp06JCSkpLcmgEA6CVcewQ2ZMgQrVixQomJidq+fbuWLFki6auf1Dx+/Hi3ZgAAegnXHoG99957Wr58uT788EMtXbpUGRkZ6t+/f8dzY5dy5swZ5eTk6OzZs2pra1NhYaGWLVvmwmoAQLhyLWArVqyQJI0ePVrz5s3T3r17FQgENGHCBN14442XfJViv379VFlZqQEDBqi1tVUTJkzQfffdpzvvvNOt+QCAMONawM6ZOnWqPB6PPB6PXnzxRe3cuVNNTU2X/JiIiAgNGDBAktTa2qrW1lZFRES4MRcAEKZcew7snOLi4o5/Li0tlSRFR0df9uOCwaAyMzMVGxurKVOmKDs7u6cmAgAs4PojsPONHj065GMjIyNVW1ur5uZmFRQUaP/+/UpPT+90jM/nk8/nkyQFAoFu3YqLq6mt1YLFPzE9wxpxI6K17GnOF3CtjAbsagwZMkS5ubnavHlzl4B5vV55vV5JX73HItxxuqVN6fcvND3DGvvfedn0BKBXcP0S4tUIBAJqbm6W9NWPXtmyZYuSk5MNrwIAmGTFI7DGxkbNnz9fwWBQ7e3tmjVrlvLy8kzPAgAYZEXAMjIyVFNTY3oGACCMWHEJEQCAryNgAAArETAAgJUIGADASgQMAGAlAgYAsBIBAwBYiYABAKxEwAAAViJgAAArETAAgJUIGADASgQMAGAlAgYAsBIBAwBYiYABAKxEwAAAViJgAAArETAAgJUIGADASgQMAGAlKwJ25MgR5ebmKjU1VWlpaVqzZo3pSQAAw6JMDwhFVFSUnn/+eWVlZenEiRMaO3aspkyZotTUVNPTAACGWPEIbOTIkcrKypIkDRw4UCkpKWpoaDC8CgBgkhUBO19dXZ1qamqUnZ1tegoAwCArLiGe8+WXX2rmzJlavXq1Bg0a1OV2n88nn88nSQoEAm7PAwC4yJpHYK2trZo5c6bmzp2rGTNmXPAYr9crv98vv9+vmJgYlxcCANxkRcAcx9GCBQuUkpKipUuXmp4DAAgDVgRs165dev3111VZWanMzExlZmZq06ZNpmcBAAyy4jmwCRMmyHEc0zMAAGHEikdgAAB8HQEDAFiJgAEArETAAABWImAAACsRMACAlQgYAMBKBAwAYCUCBgCwEgEDAFiJgAEArETAAABWImAAACsRMACAlQgYAMBKBAwAYCUCBgCwEgEDAFiJgAEArETAAABWsiZgRUVFio2NVXp6uukpAIAwYE3AHn30UW3evNn0DABAmLAmYDk5ORo6dKjpGQCAMGFNwAAAOF+U6QHdyefzyefzSZICgYDhNcCF1dTWasHin5ieYY2P/u9/lZB4m+kZVokbEa1lT/f+/8Z6VcC8Xq+8Xq8kyePxGF4DXNjpljal37/Q9AxrvP/fjymf83VF9r/zsukJruASIgDAStYEbM6cObrrrrt06NAhxcXF6ZVXXjE9CQBgkDWXEMvKykxPAACEEWsegQEAcD4CBgCwEgEDAFiJgAEArETAAABWImAAACsRMACAlQgYAMBKBAwAYCUCBgCwEgEDAFiJgAEArETAAABWImAAACsRMACAlQgYAMBKBAwAYCUCBgCwEgEDAFiJgAEArETAAABWsiZgmzdvVlJSkhITE7Vq1SrTcwAAhlkRsGAwqEWLFundd9/VBx98oLKyMn3wwQemZwEADLIiYLt371ZiYqISEhLUt29fzZ49W+vXrzc9CwBgkBUBa2ho0E033dTx67i4ODU0NBhcBAAwLcr0gO7k8/nk8/kkSQcPHpTH47mqzxMIBLTv/crunNYtAoGAYmJiTM/o4lQgoP/5r4dMz+iC83VlOF9XLlzPWSAQkOcqv4fV1dV175geZEXARo0apSNHjnT8ur6+XqNGjepynNfrldfrveb783g88vv91/x5uhu7rgy7rgy7rly4bgvXXd3NikuId9xxhw4fPqyPP/5YLS0tKi8vV35+vulZAACDrHgEFhUVpd/+9reaOnWqgsGgioqKlJaWZnoWAMCgyJ///Oc/Nz0iFLfeeqsef/xxLVmyRDk5OT1+f2PHju3x+7ga7Loy7Loy7Lpy4botXHd1pwjHcRzTIwAAuFJWPAcGAMDXXdcBu9zbU5WWliomJkaZmZnKzMzUyy+/3OObioqKFBsbq/T09Ave7jiOFi9erMTERGVkZGjv3r09vimUXdu3b9fgwYM7ztXy5ctd2XXkyBHl5uYqNTVVaWlpWrNmTZdjTJyzUHaZOGdnzpzRuHHjNHr0aKWlpenZZ5/tcszZs2f1/e9/X4mJicrOznblZdWh7DLx9XhOMBjUmDFjlJeX1+U2E+crlF0mz5drnOtUW1ubk5CQ4Hz44YfO2bNnnYyMDOfAgQOdjikpKXEWLVrk6q4dO3Y4e/bscdLS0i54+8aNG51p06Y57e3tTnV1tTNu3Liw2LVt2zbnu9/9ritbznf06FFnz549juM4zn/+8x/n1ltv7fLv0cQ5C2WXiXPW3t7unDhxwnEcx2lpaXHGjRvnVFdXdzrmd7/7nfOjH/3IcRzHKSsrc2bNmhUWu0x8PZ7z/PPPO3PmzLngvy8T5yuUXSbPl1uu20dg4fr2VDk5ORo6dOhFb1+/fr0eeeQRRURE6M4771Rzc7MaGxuN7zJl5MiRysrKkiQNHDhQKSkpXd6lxcQ5C2WXCRERERowYIAkqbW1Va2trYqIiOh0zPr16zV//nxJUmFhobZu3Sqnh58qD2WXKfX19dq4caMWLlx4wdtNnK9Qdl0PrtuAhfr2VG+99ZYyMjJUWFjY6S9TmxLOb6tVXV2t0aNH67777tOBAwdcv/+6ujrV1NQoOzu70++bPmcX2yWZOWfBYFCZmZmKjY3VlClTLnm+oqKiNHjwYB07dsz4LsnM1+MTTzyh4uJi9elz4W+Xps7X5XZJ4ff9q7tdtwELxf3336+6ujr9/e9/15QpUzr+Xxa6ysrK0ieffKJ9+/bp8ccf1wMPPODq/X/55ZeaOXOmVq9erUGDBrl635dyqV2mzllkZKRqa2tVX1+v3bt3a//+/a7c7+VcbpeJr8cNGzYoNjY27F6SHsqu6+H713UbsFDenmrYsGHq16+fJGnhwoXas2ePqxsvJNS31XLboEGDOi4BTZ8+Xa2trWpqanLlvltbWzVz5kzNnTtXM2bM6HK7qXN2uV0mz5kkDRkyRLm5udq8eXOn3z//fLW1ten48eMaNmyY8V0mvh537dqliooKxcfHa/bs2aqsrNTDDz/c6RgT5yuUXeH4/au7XbcBC+Xtqc5/nqSiokIpKSluz+wiPz9fr732mhzH0V//+lcNHjxYI0eOND1Ln376acd1/927d6u9vd2Vb3qO42jBggVKSUnR0qVLL3iMiXMWyi4T5ywQCKi5uVmSdPr0aW3ZskXJycmdjsnPz9err74qSVq3bp0mTZrU489HhbLLxNfjypUrVV9fr7q6OpWXl2vSpEl64403Oh1j4nyFsiscv391NyveSqonXOztqX72s5/J4/EoPz9fv/71r1VRUaGoqCgNHTpUpaWlPb5rzpw52r59u5qamhQXF6dly5aptbVVkvTYY49p+vTp2rRpkxITE3XDDTeopKSkxzeFsmvdunV68cUXFRUVpW9+85sqLy935Un4Xbt26fXXX9ftt9+uzMxMSdKKFSv0r3/9q2ObiXMWyi4T56yxsVHz589XMBhUe3u7Zs2apby8vE7/3S9YsEDz5s1TYmKihg4dqvLy8h7dFOouE1+PF2P6fIWyK5zOV0/hnTgAAFa6bi8hAgDsRsAAAFYiYAAAKxEwAICVCBgAwEoEDOgBjz76qNatWxfy8UePHlVhYWEPLgJ6HwIGhIFvfetbVxQ8AAQM6BavvfaaMjIyNHr0aM2bN0+SVFVVpfHjxyshIaEjTo7j6KmnnlJ6erpuv/12rV27VtJXb/h77met/epXv1JRUZEk6R//+IfS09N16tQpA38qILxdt+/EAXSXAwcO6LnnntP777+v6OhoffHFF1q6dKkaGxu1c+dOHTx4UPn5+SosLNTbb7+t2tpa7du3T01NTbrjjjuUk5PT6fMtWbJE99xzj/74xz/qF7/4hX7/+9/rhhtuMPSnA8IXj8CAa1RZWakHH3xQ0dHRktTxc9MeeOAB9enTR6mpqfrss88kSTt37tScOXMUGRmp4cOHa+LEifrb3/7W6fP16dNHpaWlmjdvniZOnKjvfOc77v6BAEsQMKCHnHsncElX/AMODx8+rAEDBujo0aPdPQvoNQgYcI0mTZqkN998s+OHGH7xxRcXPfbuu+/W2rVrFQwGFQgEVFVVpXHjxnU65vjx41q8eLGqqqp07NgxXtwBXATPgQHXKC0tTc8884wmTpyoyMhIjRkz5qLHFhQUdPwU5oiICBUXF2vEiBGqq6vrOObJJ5/UokWLdNttt+mVV15Rbm6ucnJyFBsb68KfBrAH70YPALASlxABAFYiYAAAKxEwAICVCBgAwEoEDABgJQIGALDS/wMQU1zOZU1LkAAAAABJRU5ErkJggg==' width=500px /></td><td><h4> résultats:</h4><BR>somme des choix=20<BR>moyenne=1.66666666667<BR>déviation standard=0.942809041582<BR>médiane=1.0<BR>min=1<BR>max=4</td></tr></table>"
      ],
      "text/plain": [
       "<IPython.core.display.HTML object>"
      ]
     },
     "metadata": {},
     "output_type": "display_data"
    },
    {
     "name": "stdout",
     "output_type": "stream",
     "text": [
      "somme des choix=20\n",
      "\n",
      "\u001b[1mISPV                     \u001b[0m \u001b[1mPOSTE               \u001b[0m \u001b[1mCHOIX     \u001b[0m\n",
      "Agnes                     Poste 6              2         \n",
      "Cecile                    Optionnel 7          1         \n",
      "Claudine                  Poste 9              2         \n",
      "Elise                     Optionnel 3          1         \n",
      "FCPR                      Optionnel 2          1         \n",
      "Helene                    Poste 7              4         \n",
      "Linda                     Poste 2              1         \n",
      "Nathalie                  Poste 4              2         \n",
      "Sofia                     Optionnel 4          1         \n",
      "X                         Poste 10             1         \n",
      "XX                        Poste 3              3         \n",
      "XXX                       Poste 1              1         \n",
      "\n",
      "========================== assignation 13 =====================================\n"
     ]
    },
    {
     "data": {
      "text/html": [
       "<table><tr><td><img src='data:image/png;base64,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' width=500px /></td><td><h4> résultats:</h4><BR>somme des choix=20<BR>moyenne=1.66666666667<BR>déviation standard=0.849836585599<BR>médiane=1.5<BR>min=1<BR>max=4</td></tr></table>"
      ],
      "text/plain": [
       "<IPython.core.display.HTML object>"
      ]
     },
     "metadata": {},
     "output_type": "display_data"
    },
    {
     "name": "stdout",
     "output_type": "stream",
     "text": [
      "somme des choix=20\n",
      "\n",
      "\u001b[1mISPV                     \u001b[0m \u001b[1mPOSTE               \u001b[0m \u001b[1mCHOIX     \u001b[0m\n",
      "Agnes                     Poste 6              2         \n",
      "Cecile                    Optionnel 4          2         \n",
      "Claudine                  Poste 9              2         \n",
      "Elise                     Optionnel 6          2         \n",
      "FCPR                      Optionnel 2          1         \n",
      "Helene                    Poste 4              1         \n",
      "Linda                     Poste 2              1         \n",
      "Nathalie                  Poste 10             1         \n",
      "Sofia                     Poste 5              4         \n",
      "X                         Optionnel 3          2         \n",
      "XX                        Optionnel 7          1         \n",
      "XXX                       Poste 1              1         \n",
      "\n",
      "========================== assignation 14 =====================================\n"
     ]
    },
    {
     "data": {
      "text/html": [
       "<table><tr><td><img src='data:image/png;base64,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' width=500px /></td><td><h4> résultats:</h4><BR>somme des choix=20<BR>moyenne=1.66666666667<BR>déviation standard=0.7453559925<BR>médiane=1.5<BR>min=1<BR>max=3</td></tr></table>"
      ],
      "text/plain": [
       "<IPython.core.display.HTML object>"
      ]
     },
     "metadata": {},
     "output_type": "display_data"
    },
    {
     "name": "stdout",
     "output_type": "stream",
     "text": [
      "somme des choix=20\n",
      "\n",
      "\u001b[1mISPV                     \u001b[0m \u001b[1mPOSTE               \u001b[0m \u001b[1mCHOIX     \u001b[0m\n",
      "Agnes                     Poste 6              2         \n",
      "Cecile                    Optionnel 7          1         \n",
      "Claudine                  Poste 9              2         \n",
      "Elise                     Optionnel 6          2         \n",
      "FCPR                      Optionnel 2          1         \n",
      "Helene                    Poste 4              1         \n",
      "Linda                     Poste 2              1         \n",
      "Nathalie                  Poste 10             1         \n",
      "Sofia                     Optionnel 4          1         \n",
      "X                         Optionnel 3          2         \n",
      "XX                        Poste 3              3         \n",
      "XXX                       Optionnel 1          3         \n",
      "\n",
      "========================== assignation 15 =====================================\n"
     ]
    },
    {
     "data": {
      "text/html": [
       "<table><tr><td><img src='data:image/png;base64,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' width=500px /></td><td><h4> résultats:</h4><BR>somme des choix=21<BR>moyenne=1.75<BR>déviation standard=0.829156197589<BR>médiane=2.0<BR>min=1<BR>max=4</td></tr></table>"
      ],
      "text/plain": [
       "<IPython.core.display.HTML object>"
      ]
     },
     "metadata": {},
     "output_type": "display_data"
    },
    {
     "name": "stdout",
     "output_type": "stream",
     "text": [
      "somme des choix=21\n",
      "\n",
      "\u001b[1mISPV                     \u001b[0m \u001b[1mPOSTE               \u001b[0m \u001b[1mCHOIX     \u001b[0m\n",
      "Agnes                     Poste 6              2         \n",
      "Cecile                    Optionnel 1          4         \n",
      "Claudine                  Poste 9              2         \n",
      "Elise                     Optionnel 6          2         \n",
      "FCPR                      Optionnel 4          2         \n",
      "Helene                    Poste 4              1         \n",
      "Linda                     Poste 2              1         \n",
      "Nathalie                  Poste 10             1         \n",
      "Sofia                     Poste 3              2         \n",
      "X                         Optionnel 3          2         \n",
      "XX                        Optionnel 7          1         \n",
      "XXX                       Poste 1              1         \n",
      "\n",
      "========================== assignation 16 =====================================\n"
     ]
    },
    {
     "data": {
      "text/html": [
       "<table><tr><td><img src='data:image/png;base64,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' width=500px /></td><td><h4> résultats:</h4><BR>somme des choix=21<BR>moyenne=1.75<BR>déviation standard=0.924211375534<BR>médiane=1.5<BR>min=1<BR>max=4</td></tr></table>"
      ],
      "text/plain": [
       "<IPython.core.display.HTML object>"
      ]
     },
     "metadata": {},
     "output_type": "display_data"
    },
    {
     "name": "stdout",
     "output_type": "stream",
     "text": [
      "somme des choix=21\n",
      "\n",
      "\u001b[1mISPV                     \u001b[0m \u001b[1mPOSTE               \u001b[0m \u001b[1mCHOIX     \u001b[0m\n",
      "Agnes                     Poste 6              2         \n",
      "Cecile                    Optionnel 7          1         \n",
      "Claudine                  Poste 9              2         \n",
      "Elise                     Optionnel 6          2         \n",
      "FCPR                      Optionnel 5          4         \n",
      "Helene                    Poste 4              1         \n",
      "Linda                     Poste 2              1         \n",
      "Nathalie                  Poste 10             1         \n",
      "Sofia                     Optionnel 4          1         \n",
      "X                         Optionnel 3          2         \n",
      "XX                        Poste 3              3         \n",
      "XXX                       Poste 1              1         \n",
      "\n",
      "========================== assignation 17 =====================================\n"
     ]
    },
    {
     "data": {
      "text/html": [
       "<table><tr><td><img src='data:image/png;base64,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' width=500px /></td><td><h4> résultats:</h4><BR>somme des choix=21<BR>moyenne=1.75<BR>déviation standard=0.721687836487<BR>médiane=2.0<BR>min=1<BR>max=3</td></tr></table>"
      ],
      "text/plain": [
       "<IPython.core.display.HTML object>"
      ]
     },
     "metadata": {},
     "output_type": "display_data"
    },
    {
     "name": "stdout",
     "output_type": "stream",
     "text": [
      "somme des choix=21\n",
      "\n",
      "\u001b[1mISPV                     \u001b[0m \u001b[1mPOSTE               \u001b[0m \u001b[1mCHOIX     \u001b[0m\n",
      "Agnes                     Poste 6              2         \n",
      "Cecile                    Optionnel 7          1         \n",
      "Claudine                  Poste 9              2         \n",
      "Elise                     Optionnel 6          2         \n",
      "FCPR                      Optionnel 2          1         \n",
      "Helene                    Poste 4              1         \n",
      "Linda                     Poste 1              3         \n",
      "Nathalie                  Poste 10             1         \n",
      "Sofia                     Optionnel 4          1         \n",
      "X                         Optionnel 3          2         \n",
      "XX                        Poste 2              2         \n",
      "XXX                       Optionnel 1          3         \n",
      "\n",
      "========================== assignation 18 =====================================\n"
     ]
    },
    {
     "data": {
      "text/html": [
       "<table><tr><td><img src='data:image/png;base64,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' width=500px /></td><td><h4> résultats:</h4><BR>somme des choix=21<BR>moyenne=1.75<BR>déviation standard=0.721687836487<BR>médiane=2.0<BR>min=1<BR>max=3</td></tr></table>"
      ],
      "text/plain": [
       "<IPython.core.display.HTML object>"
      ]
     },
     "metadata": {},
     "output_type": "display_data"
    },
    {
     "name": "stdout",
     "output_type": "stream",
     "text": [
      "somme des choix=21\n",
      "\n",
      "\u001b[1mISPV                     \u001b[0m \u001b[1mPOSTE               \u001b[0m \u001b[1mCHOIX     \u001b[0m\n",
      "Agnes                     Poste 6              2         \n",
      "Cecile                    Optionnel 7          1         \n",
      "Claudine                  Poste 9              2         \n",
      "Elise                     Optionnel 6          2         \n",
      "FCPR                      Optionnel 2          1         \n",
      "Helene                    Poste 4              1         \n",
      "Linda                     Poste 1              3         \n",
      "Nathalie                  Poste 10             1         \n",
      "Sofia                     Optionnel 4          1         \n",
      "X                         Optionnel 3          2         \n",
      "XX                        Poste 3              3         \n",
      "XXX                       Poste 2              2         \n"
     ]
    }
   ],
   "source": [
    "# N.B. le resultat donné par le tableur excel de 2017 ne gère pas les contraintes de postes obligatoires\n",
    "# par conséquent, la variable useRequiredConstrains est désactivée dans cette instance du programme\n",
    "# On note que le poste 8 obligatoire n'est pas pourvu. \n",
    "# Si l'option est réactivée, les résultats seront sensiblement différent de façon à pourvoir l'ensemble\n",
    "# des postes obligatoires\n",
    "\n",
    "ave=AVE(inputFile='postes2017', \n",
    "        deptMax=3, \n",
    "        nCombMax=20, \n",
    "        useRequiredConstrains=False, \n",
    "        verbose=0)\n",
    "ave.main()"
   ]
  },
  {
   "cell_type": "code",
   "execution_count": null,
   "metadata": {
    "collapsed": true
   },
   "outputs": [],
   "source": []
  },
  {
   "cell_type": "code",
   "execution_count": null,
   "metadata": {
    "collapsed": true
   },
   "outputs": [],
   "source": []
  }
 ],
 "metadata": {
  "kernelspec": {
   "display_name": "Python 2",
   "language": "python",
   "name": "python2"
  },
  "language_info": {
   "codemirror_mode": {
    "name": "ipython",
    "version": 2
   },
   "file_extension": ".py",
   "mimetype": "text/x-python",
   "name": "python",
   "nbconvert_exporter": "python",
   "pygments_lexer": "ipython2",
   "version": "2.7.12"
  }
 },
 "nbformat": 4,
 "nbformat_minor": 2
}
